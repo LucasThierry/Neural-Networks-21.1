{
  "nbformat": 4,
  "nbformat_minor": 0,
  "metadata": {
    "colab": {
      "name": "MiniProjeto3-LSTM.ipynb",
      "provenance": [],
      "authorship_tag": "ABX9TyPjOX3j84nPEObcdIv5DSOB",
      "include_colab_link": true
    },
    "kernelspec": {
      "name": "python3",
      "display_name": "Python 3"
    },
    "language_info": {
      "name": "python"
    }
  },
  "cells": [
    {
      "cell_type": "markdown",
      "metadata": {
        "id": "view-in-github",
        "colab_type": "text"
      },
      "source": [
        "<a href=\"https://colab.research.google.com/github/LucasThierry/Neural-Networks-21.1/blob/main/MiniProjeto3-LSTM.ipynb\" target=\"_parent\"><img src=\"https://colab.research.google.com/assets/colab-badge.svg\" alt=\"Open In Colab\"/></a>"
      ]
    },
    {
      "cell_type": "markdown",
      "metadata": {
        "id": "8T84cSxaOdXA"
      },
      "source": [
        "# MiniProjeto 3 - LSTM - Redes Neurais \n"
      ]
    },
    {
      "cell_type": "markdown",
      "metadata": {
        "id": "exi3p_1POoWR"
      },
      "source": [
        "## Empregar LSTM para prever o preço do Bitcoin de dezembro de 2014 a maio de 2018"
      ]
    },
    {
      "cell_type": "markdown",
      "metadata": {
        "id": "EP_xgT5qO5IE"
      },
      "source": [
        "### **Grupo: Josenildo Vicente de Araújo (jva@cin.ufpe.br), Lucas Thierry Chaves Muniz (ltcm@cin.ufpe.br), Nicholas Henrique Justino Ferreira (nhjf@cin.ufpe.br), Renato Joaquim Miranda Ferreira (rjmf@cin.ufpe.br)**"
      ]
    },
    {
      "cell_type": "markdown",
      "metadata": {
        "id": "aMkeURMbPDwf"
      },
      "source": [
        "O seguinte MiniProjeto tem como objetivo praticar os conceitos e teorias aprendidas na disciplina de Redes Neurais a respeito do funcionamento do modelo de LSTM para predição do preço do bitcoin numa determinada janela temporal. De maneira a variar os parâmetros do modelo treinado e observar seus resultados, a rede utilizada em questão, tem como função fazer a predição do preço da moeda aprendendo a partir do valores informados dataset disponibilizado passando diversos atributos da moeda no dia corrente, como o valor inicial que ela foi comercializada no dia em questão, qual o valor mais alto atingido no dia, o valor mais baixo do dia e em qual valor ela foi fechada bem como seu volume inicial e final. A partir dessas informações a rede tentará prever em qual valor o bitcoin será fechado para o dado instante de tempo.\n",
        "\n",
        "Começamos pela importação do pacote das bibliotecas do tensorflow,pandas e numpu para construção do modelo, importação do dataset. O matplotlib será a biblioteca gráfica e será usada quando for pertinente"
      ]
    },
    {
      "cell_type": "code",
      "metadata": {
        "id": "TIKFIv8CtUVZ"
      },
      "source": [
        "#importing the libraries\n",
        "import tensorflow as tf\n",
        "import numpy as np\n",
        "import pandas as pd\n",
        "import matplotlib.pyplot as plt\n",
        "from sklearn.preprocessing import StandardScaler\n",
        "import io\n",
        "%matplotlib inline"
      ],
      "execution_count": 1,
      "outputs": []
    },
    {
      "cell_type": "code",
      "metadata": {
        "colab": {
          "base_uri": "https://localhost:8080/",
          "height": 204
        },
        "id": "MgL3RUcQthAj",
        "outputId": "dff06675-1556-48fa-ffb5-ad2de7f2f7d6"
      },
      "source": [
        "df = pd.read_csv('https://raw.githubusercontent.com/brynmwangy/predicting-bitcoin-prices-using-LSTM/master/btc.csv',encoding='ISO-8859-1')\n",
        "df.head()"
      ],
      "execution_count": 2,
      "outputs": [
        {
          "output_type": "execute_result",
          "data": {
            "text/html": [
              "<div>\n",
              "<style scoped>\n",
              "    .dataframe tbody tr th:only-of-type {\n",
              "        vertical-align: middle;\n",
              "    }\n",
              "\n",
              "    .dataframe tbody tr th {\n",
              "        vertical-align: top;\n",
              "    }\n",
              "\n",
              "    .dataframe thead th {\n",
              "        text-align: right;\n",
              "    }\n",
              "</style>\n",
              "<table border=\"1\" class=\"dataframe\">\n",
              "  <thead>\n",
              "    <tr style=\"text-align: right;\">\n",
              "      <th></th>\n",
              "      <th>Date</th>\n",
              "      <th>Symbol</th>\n",
              "      <th>Open</th>\n",
              "      <th>High</th>\n",
              "      <th>Low</th>\n",
              "      <th>Close</th>\n",
              "      <th>Volume From</th>\n",
              "      <th>Volume To</th>\n",
              "    </tr>\n",
              "  </thead>\n",
              "  <tbody>\n",
              "    <tr>\n",
              "      <th>0</th>\n",
              "      <td>5/26/2018</td>\n",
              "      <td>BTCUSD</td>\n",
              "      <td>7459.11</td>\n",
              "      <td>7640.46</td>\n",
              "      <td>7380.00</td>\n",
              "      <td>7520.00</td>\n",
              "      <td>2722.80</td>\n",
              "      <td>2.042265e+07</td>\n",
              "    </tr>\n",
              "    <tr>\n",
              "      <th>1</th>\n",
              "      <td>5/25/2018</td>\n",
              "      <td>BTCUSD</td>\n",
              "      <td>7584.15</td>\n",
              "      <td>7661.85</td>\n",
              "      <td>7326.94</td>\n",
              "      <td>7459.11</td>\n",
              "      <td>8491.93</td>\n",
              "      <td>6.342069e+07</td>\n",
              "    </tr>\n",
              "    <tr>\n",
              "      <th>2</th>\n",
              "      <td>5/24/2018</td>\n",
              "      <td>BTCUSD</td>\n",
              "      <td>7505.00</td>\n",
              "      <td>7734.99</td>\n",
              "      <td>7269.00</td>\n",
              "      <td>7584.15</td>\n",
              "      <td>11033.72</td>\n",
              "      <td>8.293137e+07</td>\n",
              "    </tr>\n",
              "    <tr>\n",
              "      <th>3</th>\n",
              "      <td>5/23/2018</td>\n",
              "      <td>BTCUSD</td>\n",
              "      <td>7987.70</td>\n",
              "      <td>8030.00</td>\n",
              "      <td>7433.19</td>\n",
              "      <td>7505.00</td>\n",
              "      <td>14905.99</td>\n",
              "      <td>1.148104e+08</td>\n",
              "    </tr>\n",
              "    <tr>\n",
              "      <th>4</th>\n",
              "      <td>5/22/2018</td>\n",
              "      <td>BTCUSD</td>\n",
              "      <td>8393.44</td>\n",
              "      <td>8400.00</td>\n",
              "      <td>7950.00</td>\n",
              "      <td>7987.70</td>\n",
              "      <td>6589.43</td>\n",
              "      <td>5.389753e+07</td>\n",
              "    </tr>\n",
              "  </tbody>\n",
              "</table>\n",
              "</div>"
            ],
            "text/plain": [
              "        Date  Symbol     Open  ...    Close  Volume From     Volume To\n",
              "0  5/26/2018  BTCUSD  7459.11  ...  7520.00      2722.80  2.042265e+07\n",
              "1  5/25/2018  BTCUSD  7584.15  ...  7459.11      8491.93  6.342069e+07\n",
              "2  5/24/2018  BTCUSD  7505.00  ...  7584.15     11033.72  8.293137e+07\n",
              "3  5/23/2018  BTCUSD  7987.70  ...  7505.00     14905.99  1.148104e+08\n",
              "4  5/22/2018  BTCUSD  8393.44  ...  7987.70      6589.43  5.389753e+07\n",
              "\n",
              "[5 rows x 8 columns]"
            ]
          },
          "metadata": {},
          "execution_count": 2
        }
      ]
    },
    {
      "cell_type": "markdown",
      "metadata": {
        "id": "F0c8WB1nQzmH"
      },
      "source": [
        "Nesse ponto selecionamos apenas a coluna do dataset relativa ao preço de fechamento da moeda para predição de seu valor"
      ]
    },
    {
      "cell_type": "code",
      "metadata": {
        "colab": {
          "base_uri": "https://localhost:8080/"
        },
        "id": "2dWipXALtzo1",
        "outputId": "9b3d68b5-04db-4a87-8af8-3e53b3f98e92"
      },
      "source": [
        "#selecting only the column that we are going to use in the prediction process\n",
        "data_to_use=df['Close'].values\n",
        "data_to_use"
      ],
      "execution_count": 3,
      "outputs": [
        {
          "output_type": "execute_result",
          "data": {
            "text/plain": [
              "array([7520.  , 7459.11, 7584.15, ...,  378.  ,  378.  ,  370.  ])"
            ]
          },
          "metadata": {},
          "execution_count": 3
        }
      ]
    },
    {
      "cell_type": "markdown",
      "metadata": {
        "id": "i3B8MgoiQ65c"
      },
      "source": [
        "Com o novo dataset em mãos, é feito o uso do StandardScaler para normalizar o dataset e seguir com as análises"
      ]
    },
    {
      "cell_type": "code",
      "metadata": {
        "colab": {
          "base_uri": "https://localhost:8080/",
          "height": 458
        },
        "id": "JEqYA3xLt7sf",
        "outputId": "9b1da6c3-9c4e-4360-dce2-932912493e25"
      },
      "source": [
        "#data preprocessing(scaling)\n",
        "from sklearn.preprocessing import StandardScaler\n",
        "scaler = StandardScaler()\n",
        "scaled_data = scaler.fit_transform(data_to_use.reshape(-1, 1))\n",
        "#plotting the data\n",
        "import matplotlib.pyplot as plt\n",
        "plt.figure(figsize=(12,7), frameon=False, facecolor='brown', edgecolor='blue')\n",
        "plt.title('Bitcoin prices from December 2014 to May 2018')\n",
        "plt.xlabel('Days')\n",
        "plt.ylabel('Scaled price of Bitcoin')\n",
        "plt.plot(scaled_data, label='Price')\n",
        "plt.legend()\n",
        "plt.show()"
      ],
      "execution_count": 4,
      "outputs": [
        {
          "output_type": "display_data",
          "data": {
            "image/png": "[encoded data removed]",
            "text/plain": [
              "<Figure size 864x504 with 1 Axes>"
            ]
          },
          "metadata": {}
        }
      ]
    },
    {
      "cell_type": "markdown",
      "metadata": {
        "id": "ZBcBU7o1RNHS"
      },
      "source": [
        "É separado o dataset na proporção de 80% para o conjunto de treinamento e 20% para o conjunto de testes bem como seleção das labels e features de acordo com o tamanho da janela escolhida, por exemplo, caso o window_size = 1 então tentará ser previsto o valor de hoje usando apenas a informação do dia anterior"
      ]
    },
    {
      "cell_type": "code",
      "metadata": {
        "colab": {
          "base_uri": "https://localhost:8080/"
        },
        "id": "Q2MHE0HNuFz6",
        "outputId": "0432aaae-7cb9-4170-b613-90fd3ebc53c2"
      },
      "source": [
        "# This function is used to create Features and Labels datasets. By windowing the data.\n",
        "#Input: data - dataset used in the project\n",
        "#window_size - how many data points we are going to use to predict the next datapoint in the sequence \n",
        "#[Example: if window_size = 1 we are going to use only the previous day to predict todays stock prices]\n",
        "#Outputs: X - features splitted into windows of datapoints (if window_size = 1, X = [len(data)-1, 1])\n",
        "#y - 'labels', actually this is the next number in the sequence, this number we are trying to predict\n",
        "\n",
        "def window_data(data, window_size):\n",
        "    X = []\n",
        "    y = []\n",
        "    \n",
        "    i = 0\n",
        "    while (i + window_size) <= len(data) - 1:\n",
        "        X.append(data[i:i+window_size])\n",
        "        y.append(data[i+window_size])\n",
        "        \n",
        "        i += 1\n",
        "    assert len(X) ==  len(y)\n",
        "    return X, y\n",
        "#windowing the data with window_data function\n",
        "X, y = window_data(scaled_data, 7)\n",
        "\n",
        "\n",
        "#we now split the data into training and test set\n",
        "import numpy as np\n",
        "X_train  = np.array(X[:1018])\n",
        "y_train = np.array(y[:1018])\n",
        "\n",
        "X_test = np.array(X[1018:])\n",
        "y_test = np.array(y[1018:])\n",
        "\n",
        "print(\"X_train size: {}\".format(X_train.shape))\n",
        "print(\"y_train size: {}\".format(y_train.shape))\n",
        "print(\"X_test size: {}\".format(X_test.shape))\n",
        "print(\"y_test size: {}\".format(y_test.shape))"
      ],
      "execution_count": 5,
      "outputs": [
        {
          "output_type": "stream",
          "name": "stdout",
          "text": [
            "X_train size: (1018, 7, 1)\n",
            "y_train size: (1018, 1)\n",
            "X_test size: (248, 7, 1)\n",
            "y_test size: (248, 1)\n"
          ]
        }
      ]
    },
    {
      "cell_type": "code",
      "metadata": {
        "id": "RkEKpvL-ukAQ",
        "outputId": "ca89f564-d24e-4edb-d2f8-1ae4c4a6df7a",
        "colab": {
          "base_uri": "https://localhost:8080/"
        }
      },
      "source": [
        "# Add the import statements \n",
        "import tensorflow.compat.v1 as tf\n",
        "tf.disable_v2_behavior()"
      ],
      "execution_count": 6,
      "outputs": [
        {
          "output_type": "stream",
          "name": "stdout",
          "text": [
            "WARNING:tensorflow:From /usr/local/lib/python3.7/dist-packages/tensorflow/python/compat/v2_compat.py:111: disable_resource_variables (from tensorflow.python.ops.variable_scope) is deprecated and will be removed in a future version.\n",
            "Instructions for updating:\n",
            "non-resource variables are not supported in the long term\n"
          ]
        }
      ]
    },
    {
      "cell_type": "markdown",
      "metadata": {
        "id": "vc92jlvtRlaG"
      },
      "source": [
        "Nesse ponto será contruído o modelo do LSTM no qual passamos os parâmetros como o batch_size, hidden_layer, window_size, clip_margin,learning_rate e epochs para o treinamento e construção do modelo, primariamente o otimizador utilizado será o Adam fornecido pelo tensorflow"
      ]
    },
    {
      "cell_type": "code",
      "metadata": {
        "id": "xdEyMpUcuNUk"
      },
      "source": [
        "import tensorflow as tf\n",
        "#function to compute the gate states\n",
        "def LSTM_cell(input, output, state):\n",
        "    \n",
        "    input_gate = tf.sigmoid(tf.matmul(input, weights_input_gate) + tf.matmul(output, weights_input_hidden) + bias_input)\n",
        "    \n",
        "    forget_gate = tf.sigmoid(tf.matmul(input, weights_forget_gate) + tf.matmul(output, weights_forget_hidden) + bias_forget)\n",
        "    \n",
        "    output_gate = tf.sigmoid(tf.matmul(input, weights_output_gate) + tf.matmul(output, weights_output_hidden) + bias_output)\n",
        "    \n",
        "    memory_cell = tf.tanh(tf.matmul(input, weights_memory_cell) + tf.matmul(output, weights_memory_cell_hidden) + bias_memory_cell)\n",
        "    \n",
        "    state = state * forget_gate + input_gate * memory_cell\n",
        "    \n",
        "    output = output_gate * tf.tanh(state)\n",
        "    return state, output\n",
        "\n",
        "\n",
        "def lstm(params):\n",
        "  batch_size = params['batch_size']\n",
        "  hidden_layer = params['hidden_layer']\n",
        "  window_size = params['window_size']\n",
        "  clip_margin = params['clip_margin']\n",
        "  learning_rate = params['learning_rate']\n",
        "  epochs = params['epochs']\n",
        "\n",
        "  #we define the placeholders\n",
        "  inputs = tf.compat.v1.placeholder(tf.float32, [batch_size, window_size, 1])\n",
        "  targets = tf.compat.v1.placeholder(tf.float32, [batch_size, 1])\n",
        "\n",
        "\n",
        "\n",
        "  #weights and implementation of LSTM cell\n",
        "  # LSTM weights\n",
        "\n",
        "  #Weights for the input gate\n",
        "  weights_input_gate = tf.Variable(tf.random.truncated_normal([1, hidden_layer], stddev=0.05))\n",
        "  weights_input_hidden = tf.Variable(tf.random.truncated_normal([hidden_layer, hidden_layer], stddev=0.05))\n",
        "  bias_input = tf.Variable(tf.zeros([hidden_layer]))\n",
        "\n",
        "  #weights for the forgot gate\n",
        "  weights_forget_gate = tf.Variable(tf.random.truncated_normal([1, hidden_layer], stddev=0.05))\n",
        "  weights_forget_hidden = tf.Variable(tf.random.truncated_normal([hidden_layer, hidden_layer], stddev=0.05))\n",
        "  bias_forget = tf.Variable(tf.zeros([hidden_layer]))\n",
        "\n",
        "  #weights for the output gate\n",
        "  weights_output_gate = tf.Variable(tf.random.truncated_normal([1, hidden_layer], stddev=0.05))\n",
        "  weights_output_hidden = tf.Variable(tf.random.truncated_normal([hidden_layer, hidden_layer], stddev=0.05))\n",
        "  bias_output = tf.Variable(tf.zeros([hidden_layer]))\n",
        "\n",
        "  #weights for the memory cell\n",
        "  weights_memory_cell = tf.Variable(tf.random.truncated_normal([1, hidden_layer], stddev=0.05))\n",
        "  weights_memory_cell_hidden = tf.Variable(tf.random.truncated_normal([hidden_layer, hidden_layer], stddev=0.05))\n",
        "  bias_memory_cell = tf.Variable(tf.zeros([hidden_layer]))\n",
        "\n",
        "  #Output layer weigts\n",
        "  weights_output = tf.Variable(tf.random.truncated_normal([hidden_layer, 1], stddev=0.05))\n",
        "  bias_output_layer = tf.Variable(tf.zeros([1]))\n",
        "\n",
        "\n",
        "\n",
        "  #we now define loop for the network\n",
        "  outputs = []\n",
        "  for i in range(batch_size): #Iterates through every window in the batch\n",
        "    \n",
        "      #for each batch I am creating batch_state as all zeros and output for that window which is all zeros at the beginning as well.\n",
        "      batch_state = np.zeros([1, hidden_layer], dtype=np.float32) \n",
        "      batch_output = np.zeros([1, hidden_layer], dtype=np.float32)\n",
        "      \n",
        "      #for each point in the window we are feeding that into LSTM to get next output\n",
        "      for ii in range(window_size):\n",
        "          batch_state, batch_output = LSTM_cell(tf.reshape(inputs[i][ii], (-1, 1)), batch_state, batch_output)\n",
        "          \n",
        "      #last output is conisdered and used to get a prediction\n",
        "      outputs.append(tf.matmul(batch_output, weights_output) + bias_output_layer)\n",
        "  #we define the loss\n",
        "  losses = []\n",
        "\n",
        "  for i in range(len(outputs)):\n",
        "      losses.append(tf.losses.mean_squared_error(tf.reshape(targets[i], (-1, 1)), outputs[i]))\n",
        "      \n",
        "  loss = tf.reduce_mean(losses)\n",
        "\n",
        "  #we define optimizer with gradient clipping\n",
        "  gradients = tf.gradients(loss, tf.compat.v1.trainable_variables())\n",
        "  clipped, _ = tf.clip_by_global_norm(gradients, clip_margin)\n",
        "  optimizer = tf.optimizers.Adam(learning_rate)\n",
        "  trained_optimizer = optimizer.apply_gradients(zip(gradients, tf.compat.v1.trainable_variables()))\n",
        "\n",
        "  #we now train the network\n",
        "  session = tf.compat.v1.Session()\n",
        "  session.run(tf.compat.v1.global_variables_initializer())\n",
        "  for i in range(epochs):\n",
        "      traind_scores = []\n",
        "      ii = 0\n",
        "      epoch_loss = []\n",
        "      while(ii + batch_size) <= len(X_train):\n",
        "          X_batch = X_train[ii:ii+batch_size]\n",
        "          y_batch = y_train[ii:ii+batch_size]\n",
        "          \n",
        "          o, c, _ = session.run([outputs, loss, trained_optimizer], feed_dict={inputs:X_batch, targets:y_batch})\n",
        "          \n",
        "          epoch_loss.append(c)\n",
        "          traind_scores.append(o)\n",
        "          ii += batch_size\n",
        "      if (i % 10) == 0:\n",
        "          print('Epoch {}/{}'.format(i, epochs), ' Current loss: {}'.format(np.mean(epoch_loss)))\n",
        "\n",
        "  for i in range(len(traind_scores)):\n",
        "    for j in range(len(traind_scores[i])):\n",
        "        sup.append(traind_scores[i][j][0])\n",
        "\n",
        "  i = 0\n",
        "  while i+batch_size <= len(X_test): \n",
        "    \n",
        "      o = session.run([outputs],feed_dict={inputs:X_test[i:i+batch_size]})\n",
        "      i += batch_size\n",
        "      tests.append(o)\n",
        "\n",
        "  for i in range(len(tests)):\n",
        "    for j in range(len(tests[i][0])):\n",
        "      tests_new.append(tests[i][0][j])\n",
        "\n",
        "  for i in range(1264):\n",
        "    if i >= 1019:\n",
        "      test_results.append(tests_new[i-1019])\n",
        "    else:\n",
        "      test_results.append(None)"
      ],
      "execution_count": 26,
      "outputs": []
    },
    {
      "cell_type": "markdown",
      "metadata": {
        "id": "EcZHdakLTJLc"
      },
      "source": [
        "Após construção do modelo, vamos finalmente aos testes, para esse teste escolhemos os valores 'padrões' do modelo para verificar o quão bem essa primeira versão de testes será"
      ]
    },
    {
      "cell_type": "code",
      "metadata": {
        "id": "lqO_fQxeHONf",
        "outputId": "0827b8fe-720c-441f-add8-4e2cb9b04ee6",
        "colab": {
          "base_uri": "https://localhost:8080/"
        }
      },
      "source": [
        "sup = []\n",
        "tests = []\n",
        "tests_new = []\n",
        "test_results = []\n",
        "\n",
        "params = {'batch_size': 7, #how many windows of data we are passing at once\n",
        "'window_size': 7, #how big window_size is (Or How many days do we consider to predict next point in the sequence)\n",
        "'hidden_layer': 256, #How many units do we use in LSTM cell\n",
        "'clip_margin': 4, #To prevent exploding gradient, we use clipper to clip gradients below -margin or above this margin\n",
        "'learning_rate' : 0.001 ,\n",
        "'epochs' : 200 }\n",
        "\n",
        "lstm(params)"
      ],
      "execution_count": 21,
      "outputs": [
        {
          "output_type": "stream",
          "name": "stdout",
          "text": [
            "WARNING:tensorflow:Gradients do not exist for variables ['Variable:0', 'Variable_1:0', 'Variable_2:0', 'Variable_3:0', 'Variable_4:0', 'Variable_5:0', 'Variable_6:0', 'Variable_7:0', 'Variable_8:0', 'Variable_9:0', 'Variable_10:0', 'Variable_11:0', 'Variable_12:0', 'Variable_13:0', 'Variable_14:0', 'Variable_15:0', 'Variable_16:0', 'Variable_17:0', 'Variable_18:0', 'Variable_19:0', 'Variable_20:0', 'Variable_21:0', 'Variable_22:0', 'Variable_23:0', 'Variable_24:0', 'Variable_25:0', 'Variable_26:0', 'Variable_27:0', 'Variable_40:0', 'Variable_41:0', 'Variable_42:0', 'Variable_43:0', 'Variable_44:0', 'Variable_45:0', 'Variable_46:0', 'Variable_47:0', 'Variable_48:0', 'Variable_49:0', 'Variable_50:0', 'Variable_51:0', 'Variable_52:0', 'Variable_53:0', 'Variable_54:0', 'Variable_55:0', 'Variable_56:0', 'Variable_57:0', 'Variable_58:0', 'Variable_59:0', 'Variable_60:0', 'Variable_61:0', 'Variable_62:0', 'Variable_63:0', 'Variable_64:0', 'Variable_65:0', 'Variable_66:0', 'Variable_67:0', 'Variable_68:0', 'Variable_69:0', 'Variable_70:0', 'Variable_71:0', 'Variable_72:0', 'Variable_73:0', 'Variable_74:0', 'Variable_75:0', 'Variable_76:0', 'Variable_77:0', 'Variable_78:0', 'Variable_79:0', 'Variable_80:0', 'Variable_81:0'] when minimizing the loss. If you're using `model.compile()`, did you forget to provide a `loss`argument?\n",
            "Epoch 0/200  Current loss: 0.2944447696208954\n",
            "Epoch 10/200  Current loss: 0.16253623366355896\n",
            "Epoch 20/200  Current loss: 0.08602702617645264\n",
            "Epoch 30/200  Current loss: 0.02573692612349987\n",
            "Epoch 40/200  Current loss: 0.0394602008163929\n",
            "Epoch 50/200  Current loss: 0.011434434913098812\n",
            "Epoch 60/200  Current loss: 0.013702204450964928\n",
            "Epoch 70/200  Current loss: 0.012557740323245525\n",
            "Epoch 80/200  Current loss: 0.00800948217511177\n",
            "Epoch 90/200  Current loss: 0.009538853541016579\n",
            "Epoch 100/200  Current loss: 0.008355582132935524\n",
            "Epoch 110/200  Current loss: 0.007612398359924555\n",
            "Epoch 120/200  Current loss: 0.007427217438817024\n",
            "Epoch 130/200  Current loss: 0.006743502803146839\n",
            "Epoch 140/200  Current loss: 0.0072958520613610744\n",
            "Epoch 150/200  Current loss: 0.007026133127510548\n",
            "Epoch 160/200  Current loss: 0.006734028924256563\n",
            "Epoch 170/200  Current loss: 0.00574046466499567\n",
            "Epoch 180/200  Current loss: 0.005497649312019348\n",
            "Epoch 190/200  Current loss: 0.005913641769438982\n"
          ]
        }
      ]
    },
    {
      "cell_type": "code",
      "metadata": {
        "colab": {
          "base_uri": "https://localhost:8080/",
          "height": 512
        },
        "id": "TPgvOvGLzllY",
        "outputId": "ad419a1f-47de-4883-8f7b-373a44583aee"
      },
      "source": [
        "#we now plot predictions from the network\n",
        "plt.figure(figsize=(16, 7))\n",
        "plt.title('Bitcoin prices from December 2014 to May 2018')\n",
        "plt.xlabel('Days')\n",
        "plt.ylabel('Scaled Price of Bitcoin')\n",
        "plt.plot(scaled_data, label='Original data',color='blue')\n",
        "plt.plot(sup, label='Training data',color='green')\n",
        "plt.plot(test_results, label='Testing data',color='red')\n",
        "plt.legend()\n",
        "plt.show()"
      ],
      "execution_count": 22,
      "outputs": [
        {
          "output_type": "stream",
          "name": "stderr",
          "text": [
            "/usr/local/lib/python3.7/dist-packages/numpy/core/_asarray.py:136: VisibleDeprecationWarning: Creating an ndarray from ragged nested sequences (which is a list-or-tuple of lists-or-tuples-or ndarrays with different lengths or shapes) is deprecated. If you meant to do this, you must specify 'dtype=object' when creating the ndarray\n",
            "  return array(a, dtype, copy=False, order=order, subok=True)\n"
          ]
        },
        {
          "output_type": "display_data",
          "data": {
            "image/png": "[encoded data removed]",
            "text/plain": [
              "<Figure size 1152x504 with 1 Axes>"
            ]
          },
          "metadata": {
            "needs_background": "light"
          }
        }
      ]
    },
    {
      "cell_type": "markdown",
      "metadata": {
        "id": "tYual7uGTVa5"
      },
      "source": [
        "Como é possível observar, nosso modelo está bem próximo do valor de fechamento real do dataset real, conforme as épocas de treinamento vão passando chega tão próximo que é possível argumentar que são os mesmos valores."
      ]
    }
  ]
}