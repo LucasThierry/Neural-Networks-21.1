{
  "nbformat": 4,
  "nbformat_minor": 0,
  "metadata": {
    "colab": {
      "name": "Projeto.ipynb",
      "provenance": [],
      "collapsed_sections": [
        "qdaAbfVw5PXP",
        "6nqLBh2Z5RaB",
        "jB2NiEQu5Sxf"
      ],
      "include_colab_link": true
    },
    "kernelspec": {
      "name": "python3",
      "display_name": "Python 3"
    },
    "language_info": {
      "name": "python"
    }
  },
  "cells": [
    {
      "cell_type": "markdown",
      "metadata": {
        "id": "view-in-github",
        "colab_type": "text"
      },
      "source": [
        "<a href=\"https://colab.research.google.com/github/LucasThierry/Neural-Networks-21.1/blob/main/Projeto.ipynb\" target=\"_parent\"><img src=\"https://colab.research.google.com/assets/colab-badge.svg\" alt=\"Open In Colab\"/></a>"
      ]
    },
    {
      "cell_type": "markdown",
      "metadata": {
        "id": "XNiaLJ8AGAt1"
      },
      "source": [
        "#Projeto - Análise de Risco de Crédito"
      ]
    },
    {
      "cell_type": "markdown",
      "metadata": {
        "id": "JBN3zi3YGofM"
      },
      "source": [
        "### **Grupo: Josenildo Vicente de Araújo (jva@cin.ufpe.br), Lucas Thierry Chaves Muniz (ltcm@cin.ufpe.br), Nicholas Henrique Justino Ferreira (nhjf@cin.ufpe.br), Renato Joaquim Miranda Ferreira (rjmf@cin.ufpe.br)**"
      ]
    },
    {
      "cell_type": "markdown",
      "metadata": {
        "id": "xYHc0St5G1A-"
      },
      "source": [
        "O seguinte Projeto tem como objetivo praticar os conceitos e teorias aprendidas na disciplina de Redes Neurais a respeito"
      ]
    },
    {
      "cell_type": "markdown",
      "metadata": {
        "id": "g8A22cU9ytOD"
      },
      "source": [
        "#Organização e separação dos dados"
      ]
    },
    {
      "cell_type": "code",
      "metadata": {
        "id": "E8wBwn4XUnvd",
        "colab": {
          "base_uri": "https://localhost:8080/"
        },
        "outputId": "a449f0f1-447f-4a28-847a-106bed79e02a"
      },
      "source": [
        "! pip install optuna\n",
        "import numpy as np\n",
        "import pandas as pd\n",
        "import gdown\n",
        "import os\n",
        "import optuna"
      ],
      "execution_count": 1,
      "outputs": [
        {
          "output_type": "stream",
          "name": "stdout",
          "text": [
            "Requirement already satisfied: optuna in /usr/local/lib/python3.7/dist-packages (2.10.0)\n",
            "Requirement already satisfied: numpy in /usr/local/lib/python3.7/dist-packages (from optuna) (1.19.5)\n",
            "Requirement already satisfied: colorlog in /usr/local/lib/python3.7/dist-packages (from optuna) (6.6.0)\n",
            "Requirement already satisfied: tqdm in /usr/local/lib/python3.7/dist-packages (from optuna) (4.62.3)\n",
            "Requirement already satisfied: PyYAML in /usr/local/lib/python3.7/dist-packages (from optuna) (3.13)\n",
            "Requirement already satisfied: cliff in /usr/local/lib/python3.7/dist-packages (from optuna) (3.10.0)\n",
            "Requirement already satisfied: packaging>=20.0 in /usr/local/lib/python3.7/dist-packages (from optuna) (21.3)\n",
            "Requirement already satisfied: sqlalchemy>=1.1.0 in /usr/local/lib/python3.7/dist-packages (from optuna) (1.4.27)\n",
            "Requirement already satisfied: alembic in /usr/local/lib/python3.7/dist-packages (from optuna) (1.7.5)\n",
            "Requirement already satisfied: scipy!=1.4.0 in /usr/local/lib/python3.7/dist-packages (from optuna) (1.4.1)\n",
            "Requirement already satisfied: cmaes>=0.8.2 in /usr/local/lib/python3.7/dist-packages (from optuna) (0.8.2)\n",
            "Requirement already satisfied: pyparsing!=3.0.5,>=2.0.2 in /usr/local/lib/python3.7/dist-packages (from packaging>=20.0->optuna) (3.0.6)\n",
            "Requirement already satisfied: importlib-metadata in /usr/local/lib/python3.7/dist-packages (from sqlalchemy>=1.1.0->optuna) (4.8.2)\n",
            "Requirement already satisfied: greenlet!=0.4.17 in /usr/local/lib/python3.7/dist-packages (from sqlalchemy>=1.1.0->optuna) (1.1.2)\n",
            "Requirement already satisfied: Mako in /usr/local/lib/python3.7/dist-packages (from alembic->optuna) (1.1.6)\n",
            "Requirement already satisfied: importlib-resources in /usr/local/lib/python3.7/dist-packages (from alembic->optuna) (5.4.0)\n",
            "Requirement already satisfied: PrettyTable>=0.7.2 in /usr/local/lib/python3.7/dist-packages (from cliff->optuna) (2.4.0)\n",
            "Requirement already satisfied: cmd2>=1.0.0 in /usr/local/lib/python3.7/dist-packages (from cliff->optuna) (2.3.3)\n",
            "Requirement already satisfied: stevedore>=2.0.1 in /usr/local/lib/python3.7/dist-packages (from cliff->optuna) (3.5.0)\n",
            "Requirement already satisfied: autopage>=0.4.0 in /usr/local/lib/python3.7/dist-packages (from cliff->optuna) (0.4.0)\n",
            "Requirement already satisfied: pbr!=2.1.0,>=2.0.0 in /usr/local/lib/python3.7/dist-packages (from cliff->optuna) (5.8.0)\n",
            "Requirement already satisfied: wcwidth>=0.1.7 in /usr/local/lib/python3.7/dist-packages (from cmd2>=1.0.0->cliff->optuna) (0.2.5)\n",
            "Requirement already satisfied: pyperclip>=1.6 in /usr/local/lib/python3.7/dist-packages (from cmd2>=1.0.0->cliff->optuna) (1.8.2)\n",
            "Requirement already satisfied: attrs>=16.3.0 in /usr/local/lib/python3.7/dist-packages (from cmd2>=1.0.0->cliff->optuna) (21.2.0)\n",
            "Requirement already satisfied: typing-extensions in /usr/local/lib/python3.7/dist-packages (from cmd2>=1.0.0->cliff->optuna) (3.10.0.2)\n",
            "Requirement already satisfied: zipp>=0.5 in /usr/local/lib/python3.7/dist-packages (from importlib-metadata->sqlalchemy>=1.1.0->optuna) (3.6.0)\n",
            "Requirement already satisfied: MarkupSafe>=0.9.2 in /usr/local/lib/python3.7/dist-packages (from Mako->alembic->optuna) (2.0.1)\n"
          ]
        }
      ]
    },
    {
      "cell_type": "code",
      "metadata": {
        "id": "RM0-QyKzabHZ"
      },
      "source": [
        "def pull_dataset_file(name_file):\n",
        "  file_id = '11JVg39uGJsYZZPKssnVoALl4A4RG7gI8'\n",
        "  url = 'https://drive.google.com/uc?id='+file_id\n",
        "\n",
        "  gdown.download(url, name_file, quiet=False)\n"
      ],
      "execution_count": 2,
      "outputs": []
    },
    {
      "cell_type": "code",
      "metadata": {
        "id": "R311Aysac9Lk"
      },
      "source": [
        "name_file = \"TRNcod.csv\""
      ],
      "execution_count": 3,
      "outputs": []
    },
    {
      "cell_type": "code",
      "metadata": {
        "id": "AhJm7M2lVW8d"
      },
      "source": [
        "if not os.path.exists('/content/'+name_file):\n",
        "  print(\"Arquivo não existe ainda\")\n",
        "  print(\"Fazendo downloading...\")\n",
        "  pull_dataset_file(name_file)\n",
        "  print(\"Download finalizado!\")"
      ],
      "execution_count": 4,
      "outputs": []
    },
    {
      "cell_type": "code",
      "metadata": {
        "id": "Ea6fanOoY2Mo",
        "colab": {
          "base_uri": "https://localhost:8080/"
        },
        "outputId": "4b5bbf20-d5e3-41aa-e383-f7aa3e9b4590"
      },
      "source": [
        "print(\"Lendo arquivo...\")\n",
        "dataset = pd.read_csv(name_file)"
      ],
      "execution_count": 5,
      "outputs": [
        {
          "output_type": "stream",
          "name": "stdout",
          "text": [
            "Lendo arquivo...\n"
          ]
        }
      ]
    },
    {
      "cell_type": "code",
      "metadata": {
        "colab": {
          "base_uri": "https://localhost:8080/",
          "height": 444
        },
        "id": "NvIEGqgrogOe",
        "outputId": "7eab0e6b-dec8-4fee-9a2e-cd43ae6aee73"
      },
      "source": [
        "dataset "
      ],
      "execution_count": 6,
      "outputs": [
        {
          "output_type": "execute_result",
          "data": {
            "text/html": [
              "<div>\n",
              "<style scoped>\n",
              "    .dataframe tbody tr th:only-of-type {\n",
              "        vertical-align: middle;\n",
              "    }\n",
              "\n",
              "    .dataframe tbody tr th {\n",
              "        vertical-align: top;\n",
              "    }\n",
              "\n",
              "    .dataframe thead th {\n",
              "        text-align: right;\n",
              "    }\n",
              "</style>\n",
              "<table border=\"1\" class=\"dataframe\">\n",
              "  <thead>\n",
              "    <tr style=\"text-align: right;\">\n",
              "      <th></th>\n",
              "      <th>INDEX</th>\n",
              "      <th>UF_1</th>\n",
              "      <th>UF_2</th>\n",
              "      <th>UF_3</th>\n",
              "      <th>UF_4</th>\n",
              "      <th>UF_5</th>\n",
              "      <th>UF_6</th>\n",
              "      <th>UF_7</th>\n",
              "      <th>IDADE</th>\n",
              "      <th>SEXO_1</th>\n",
              "      <th>NIVEL_RELACIONAMENTO_CREDITO01</th>\n",
              "      <th>NIVEL_RELACIONAMENTO_CREDITO02</th>\n",
              "      <th>BANCO_REST_IRPF_ULTIMA_1</th>\n",
              "      <th>BANCO_REST_IRPF_ULTIMA_2</th>\n",
              "      <th>BANCO_REST_IRPF_ULTIMA_3</th>\n",
              "      <th>BANCO_REST_IRPF_ULTIMA_4</th>\n",
              "      <th>BANCO_REST_IRPF_ULTIMA_5</th>\n",
              "      <th>BANCO_REST_IRPF_ULTIMA_6</th>\n",
              "      <th>BANCO_REST_IRPF_ULTIMA_7</th>\n",
              "      <th>ATIVIDADE_EMAIL</th>\n",
              "      <th>EXPOSICAO_ENDERECO</th>\n",
              "      <th>EXPOSICAO_EMAIL</th>\n",
              "      <th>EXPOSICAO_TELEFONE</th>\n",
              "      <th>ATIVIDADE_ENDERECO</th>\n",
              "      <th>ATUALIZACAO_ENDERECO</th>\n",
              "      <th>ATUALIZACAO_EMAIL</th>\n",
              "      <th>EXPOSICAO_CONSUMIDOR_EMAILS</th>\n",
              "      <th>EXPOSICAO_CONSUMIDOR_TELEFONES</th>\n",
              "      <th>ATIVIDADE_TELEFONE</th>\n",
              "      <th>VALOR_PARCELA_BOLSA_FAMILIA</th>\n",
              "      <th>FLAG_BOLSA_FAMILIA_1</th>\n",
              "      <th>SIGLA_PARTIDO_FILIADO_1</th>\n",
              "      <th>SIGLA_PARTIDO_FILIADO_2</th>\n",
              "      <th>SIGLA_PARTIDO_FILIADO_3</th>\n",
              "      <th>SIGLA_PARTIDO_FILIADO_4</th>\n",
              "      <th>SIGLA_PARTIDO_FILIADO_5</th>\n",
              "      <th>SIGLA_PARTIDO_FILIADO_6</th>\n",
              "      <th>SIGLA_PARTIDO_FILIADO_7</th>\n",
              "      <th>FLAG_FILIADO_PARTIDO_POLITICO_1</th>\n",
              "      <th>FLAG_PROUNI_1</th>\n",
              "      <th>...</th>\n",
              "      <th>CEP1_3</th>\n",
              "      <th>CEP1_4</th>\n",
              "      <th>CEP1_5</th>\n",
              "      <th>CEP2_1</th>\n",
              "      <th>CEP2_2</th>\n",
              "      <th>CEP2_3</th>\n",
              "      <th>CEP2_4</th>\n",
              "      <th>CEP2_5</th>\n",
              "      <th>CEP2_6</th>\n",
              "      <th>CEP2_7</th>\n",
              "      <th>CEP2_8</th>\n",
              "      <th>CEP2_9</th>\n",
              "      <th>CEP3_1</th>\n",
              "      <th>CEP3_2</th>\n",
              "      <th>CEP3_3</th>\n",
              "      <th>CEP3_4</th>\n",
              "      <th>CEP3_5</th>\n",
              "      <th>CEP3_6</th>\n",
              "      <th>CEP3_7</th>\n",
              "      <th>CEP3_8</th>\n",
              "      <th>CEP3_9</th>\n",
              "      <th>CEP3_10</th>\n",
              "      <th>CEP3_11</th>\n",
              "      <th>CEP3_12</th>\n",
              "      <th>CEP4_1</th>\n",
              "      <th>CEP4_2</th>\n",
              "      <th>CEP4_3</th>\n",
              "      <th>CEP4_4</th>\n",
              "      <th>CEP4_5</th>\n",
              "      <th>CEP4_6</th>\n",
              "      <th>CEP4_7</th>\n",
              "      <th>CEP4_8</th>\n",
              "      <th>CEP4_9</th>\n",
              "      <th>CEP4_10</th>\n",
              "      <th>CEP4_11</th>\n",
              "      <th>CEP4_12</th>\n",
              "      <th>CEP4_13</th>\n",
              "      <th>CEP4_14</th>\n",
              "      <th>IND_BOM_1_1</th>\n",
              "      <th>IND_BOM_1_2</th>\n",
              "    </tr>\n",
              "  </thead>\n",
              "  <tbody>\n",
              "    <tr>\n",
              "      <th>0</th>\n",
              "      <td>0</td>\n",
              "      <td>1</td>\n",
              "      <td>1</td>\n",
              "      <td>1</td>\n",
              "      <td>0</td>\n",
              "      <td>0</td>\n",
              "      <td>0</td>\n",
              "      <td>0</td>\n",
              "      <td>0.135098</td>\n",
              "      <td>1</td>\n",
              "      <td>0.222222</td>\n",
              "      <td>0.0</td>\n",
              "      <td>0</td>\n",
              "      <td>0</td>\n",
              "      <td>0</td>\n",
              "      <td>0</td>\n",
              "      <td>0</td>\n",
              "      <td>1</td>\n",
              "      <td>1</td>\n",
              "      <td>5.881235e-18</td>\n",
              "      <td>0.041667</td>\n",
              "      <td>0.000000</td>\n",
              "      <td>0.000000</td>\n",
              "      <td>0.105588</td>\n",
              "      <td>0.796392</td>\n",
              "      <td>-5.140958e-17</td>\n",
              "      <td>0.0</td>\n",
              "      <td>0.1</td>\n",
              "      <td>1.316491e-01</td>\n",
              "      <td>0.000000</td>\n",
              "      <td>0</td>\n",
              "      <td>1</td>\n",
              "      <td>1</td>\n",
              "      <td>1</td>\n",
              "      <td>0</td>\n",
              "      <td>0</td>\n",
              "      <td>0</td>\n",
              "      <td>0</td>\n",
              "      <td>0</td>\n",
              "      <td>1</td>\n",
              "      <td>...</td>\n",
              "      <td>1</td>\n",
              "      <td>0</td>\n",
              "      <td>0</td>\n",
              "      <td>1</td>\n",
              "      <td>0</td>\n",
              "      <td>0</td>\n",
              "      <td>1</td>\n",
              "      <td>0</td>\n",
              "      <td>1</td>\n",
              "      <td>0</td>\n",
              "      <td>1</td>\n",
              "      <td>0</td>\n",
              "      <td>0</td>\n",
              "      <td>0</td>\n",
              "      <td>0</td>\n",
              "      <td>1</td>\n",
              "      <td>0</td>\n",
              "      <td>1</td>\n",
              "      <td>1</td>\n",
              "      <td>0</td>\n",
              "      <td>1</td>\n",
              "      <td>0</td>\n",
              "      <td>0</td>\n",
              "      <td>1</td>\n",
              "      <td>0</td>\n",
              "      <td>0</td>\n",
              "      <td>1</td>\n",
              "      <td>0</td>\n",
              "      <td>1</td>\n",
              "      <td>0</td>\n",
              "      <td>0</td>\n",
              "      <td>0</td>\n",
              "      <td>1</td>\n",
              "      <td>1</td>\n",
              "      <td>0</td>\n",
              "      <td>1</td>\n",
              "      <td>1</td>\n",
              "      <td>1</td>\n",
              "      <td>0</td>\n",
              "      <td>1</td>\n",
              "    </tr>\n",
              "    <tr>\n",
              "      <th>1</th>\n",
              "      <td>1</td>\n",
              "      <td>1</td>\n",
              "      <td>0</td>\n",
              "      <td>1</td>\n",
              "      <td>0</td>\n",
              "      <td>0</td>\n",
              "      <td>1</td>\n",
              "      <td>0</td>\n",
              "      <td>0.273504</td>\n",
              "      <td>1</td>\n",
              "      <td>0.111111</td>\n",
              "      <td>0.0</td>\n",
              "      <td>0</td>\n",
              "      <td>0</td>\n",
              "      <td>0</td>\n",
              "      <td>0</td>\n",
              "      <td>0</td>\n",
              "      <td>1</td>\n",
              "      <td>1</td>\n",
              "      <td>5.881235e-18</td>\n",
              "      <td>0.013889</td>\n",
              "      <td>0.000000</td>\n",
              "      <td>0.000000</td>\n",
              "      <td>0.147356</td>\n",
              "      <td>0.979968</td>\n",
              "      <td>-5.140958e-17</td>\n",
              "      <td>0.0</td>\n",
              "      <td>0.0</td>\n",
              "      <td>-2.188272e-17</td>\n",
              "      <td>0.000000</td>\n",
              "      <td>0</td>\n",
              "      <td>1</td>\n",
              "      <td>1</td>\n",
              "      <td>1</td>\n",
              "      <td>0</td>\n",
              "      <td>0</td>\n",
              "      <td>0</td>\n",
              "      <td>0</td>\n",
              "      <td>0</td>\n",
              "      <td>0</td>\n",
              "      <td>...</td>\n",
              "      <td>0</td>\n",
              "      <td>1</td>\n",
              "      <td>0</td>\n",
              "      <td>1</td>\n",
              "      <td>1</td>\n",
              "      <td>1</td>\n",
              "      <td>0</td>\n",
              "      <td>0</td>\n",
              "      <td>0</td>\n",
              "      <td>0</td>\n",
              "      <td>1</td>\n",
              "      <td>0</td>\n",
              "      <td>0</td>\n",
              "      <td>1</td>\n",
              "      <td>1</td>\n",
              "      <td>1</td>\n",
              "      <td>0</td>\n",
              "      <td>0</td>\n",
              "      <td>0</td>\n",
              "      <td>1</td>\n",
              "      <td>0</td>\n",
              "      <td>0</td>\n",
              "      <td>1</td>\n",
              "      <td>0</td>\n",
              "      <td>1</td>\n",
              "      <td>1</td>\n",
              "      <td>1</td>\n",
              "      <td>0</td>\n",
              "      <td>1</td>\n",
              "      <td>0</td>\n",
              "      <td>0</td>\n",
              "      <td>1</td>\n",
              "      <td>0</td>\n",
              "      <td>1</td>\n",
              "      <td>1</td>\n",
              "      <td>0</td>\n",
              "      <td>0</td>\n",
              "      <td>0</td>\n",
              "      <td>1</td>\n",
              "      <td>0</td>\n",
              "    </tr>\n",
              "    <tr>\n",
              "      <th>2</th>\n",
              "      <td>2</td>\n",
              "      <td>1</td>\n",
              "      <td>0</td>\n",
              "      <td>1</td>\n",
              "      <td>0</td>\n",
              "      <td>0</td>\n",
              "      <td>1</td>\n",
              "      <td>0</td>\n",
              "      <td>0.281910</td>\n",
              "      <td>0</td>\n",
              "      <td>1.000000</td>\n",
              "      <td>0.0</td>\n",
              "      <td>0</td>\n",
              "      <td>0</td>\n",
              "      <td>0</td>\n",
              "      <td>0</td>\n",
              "      <td>0</td>\n",
              "      <td>1</td>\n",
              "      <td>1</td>\n",
              "      <td>5.881235e-18</td>\n",
              "      <td>0.500000</td>\n",
              "      <td>0.000000</td>\n",
              "      <td>0.000000</td>\n",
              "      <td>0.147356</td>\n",
              "      <td>0.398645</td>\n",
              "      <td>-5.140958e-17</td>\n",
              "      <td>0.0</td>\n",
              "      <td>0.0</td>\n",
              "      <td>-2.188272e-17</td>\n",
              "      <td>0.000000</td>\n",
              "      <td>0</td>\n",
              "      <td>1</td>\n",
              "      <td>1</td>\n",
              "      <td>1</td>\n",
              "      <td>0</td>\n",
              "      <td>0</td>\n",
              "      <td>0</td>\n",
              "      <td>0</td>\n",
              "      <td>0</td>\n",
              "      <td>0</td>\n",
              "      <td>...</td>\n",
              "      <td>0</td>\n",
              "      <td>1</td>\n",
              "      <td>0</td>\n",
              "      <td>1</td>\n",
              "      <td>1</td>\n",
              "      <td>1</td>\n",
              "      <td>0</td>\n",
              "      <td>0</td>\n",
              "      <td>0</td>\n",
              "      <td>0</td>\n",
              "      <td>1</td>\n",
              "      <td>0</td>\n",
              "      <td>1</td>\n",
              "      <td>1</td>\n",
              "      <td>0</td>\n",
              "      <td>0</td>\n",
              "      <td>0</td>\n",
              "      <td>0</td>\n",
              "      <td>1</td>\n",
              "      <td>0</td>\n",
              "      <td>1</td>\n",
              "      <td>0</td>\n",
              "      <td>0</td>\n",
              "      <td>1</td>\n",
              "      <td>1</td>\n",
              "      <td>1</td>\n",
              "      <td>0</td>\n",
              "      <td>1</td>\n",
              "      <td>1</td>\n",
              "      <td>0</td>\n",
              "      <td>1</td>\n",
              "      <td>1</td>\n",
              "      <td>0</td>\n",
              "      <td>0</td>\n",
              "      <td>0</td>\n",
              "      <td>0</td>\n",
              "      <td>1</td>\n",
              "      <td>0</td>\n",
              "      <td>1</td>\n",
              "      <td>0</td>\n",
              "    </tr>\n",
              "    <tr>\n",
              "      <th>3</th>\n",
              "      <td>3</td>\n",
              "      <td>1</td>\n",
              "      <td>1</td>\n",
              "      <td>1</td>\n",
              "      <td>0</td>\n",
              "      <td>0</td>\n",
              "      <td>0</td>\n",
              "      <td>0</td>\n",
              "      <td>0.225741</td>\n",
              "      <td>0</td>\n",
              "      <td>0.111111</td>\n",
              "      <td>0.0</td>\n",
              "      <td>1</td>\n",
              "      <td>1</td>\n",
              "      <td>0</td>\n",
              "      <td>0</td>\n",
              "      <td>0</td>\n",
              "      <td>0</td>\n",
              "      <td>0</td>\n",
              "      <td>4.788559e-01</td>\n",
              "      <td>0.083333</td>\n",
              "      <td>0.115789</td>\n",
              "      <td>0.055556</td>\n",
              "      <td>0.147356</td>\n",
              "      <td>0.398645</td>\n",
              "      <td>8.325188e-02</td>\n",
              "      <td>0.2</td>\n",
              "      <td>0.3</td>\n",
              "      <td>4.859488e-01</td>\n",
              "      <td>0.000000</td>\n",
              "      <td>0</td>\n",
              "      <td>1</td>\n",
              "      <td>1</td>\n",
              "      <td>1</td>\n",
              "      <td>0</td>\n",
              "      <td>0</td>\n",
              "      <td>0</td>\n",
              "      <td>0</td>\n",
              "      <td>0</td>\n",
              "      <td>1</td>\n",
              "      <td>...</td>\n",
              "      <td>1</td>\n",
              "      <td>0</td>\n",
              "      <td>0</td>\n",
              "      <td>1</td>\n",
              "      <td>1</td>\n",
              "      <td>0</td>\n",
              "      <td>0</td>\n",
              "      <td>0</td>\n",
              "      <td>0</td>\n",
              "      <td>1</td>\n",
              "      <td>1</td>\n",
              "      <td>0</td>\n",
              "      <td>1</td>\n",
              "      <td>0</td>\n",
              "      <td>0</td>\n",
              "      <td>1</td>\n",
              "      <td>0</td>\n",
              "      <td>1</td>\n",
              "      <td>1</td>\n",
              "      <td>0</td>\n",
              "      <td>0</td>\n",
              "      <td>0</td>\n",
              "      <td>0</td>\n",
              "      <td>1</td>\n",
              "      <td>0</td>\n",
              "      <td>0</td>\n",
              "      <td>1</td>\n",
              "      <td>0</td>\n",
              "      <td>1</td>\n",
              "      <td>0</td>\n",
              "      <td>1</td>\n",
              "      <td>1</td>\n",
              "      <td>0</td>\n",
              "      <td>1</td>\n",
              "      <td>1</td>\n",
              "      <td>0</td>\n",
              "      <td>1</td>\n",
              "      <td>0</td>\n",
              "      <td>1</td>\n",
              "      <td>0</td>\n",
              "    </tr>\n",
              "    <tr>\n",
              "      <th>4</th>\n",
              "      <td>4</td>\n",
              "      <td>1</td>\n",
              "      <td>1</td>\n",
              "      <td>0</td>\n",
              "      <td>0</td>\n",
              "      <td>0</td>\n",
              "      <td>1</td>\n",
              "      <td>0</td>\n",
              "      <td>0.480403</td>\n",
              "      <td>0</td>\n",
              "      <td>0.111111</td>\n",
              "      <td>0.0</td>\n",
              "      <td>0</td>\n",
              "      <td>0</td>\n",
              "      <td>0</td>\n",
              "      <td>0</td>\n",
              "      <td>0</td>\n",
              "      <td>1</td>\n",
              "      <td>1</td>\n",
              "      <td>5.881235e-18</td>\n",
              "      <td>0.208333</td>\n",
              "      <td>0.000000</td>\n",
              "      <td>0.111111</td>\n",
              "      <td>0.151604</td>\n",
              "      <td>0.398645</td>\n",
              "      <td>-5.140958e-17</td>\n",
              "      <td>0.0</td>\n",
              "      <td>0.5</td>\n",
              "      <td>1.689438e-01</td>\n",
              "      <td>0.458333</td>\n",
              "      <td>1</td>\n",
              "      <td>1</td>\n",
              "      <td>1</td>\n",
              "      <td>1</td>\n",
              "      <td>0</td>\n",
              "      <td>0</td>\n",
              "      <td>0</td>\n",
              "      <td>0</td>\n",
              "      <td>0</td>\n",
              "      <td>1</td>\n",
              "      <td>...</td>\n",
              "      <td>1</td>\n",
              "      <td>0</td>\n",
              "      <td>1</td>\n",
              "      <td>0</td>\n",
              "      <td>1</td>\n",
              "      <td>1</td>\n",
              "      <td>1</td>\n",
              "      <td>0</td>\n",
              "      <td>0</td>\n",
              "      <td>0</td>\n",
              "      <td>0</td>\n",
              "      <td>1</td>\n",
              "      <td>0</td>\n",
              "      <td>1</td>\n",
              "      <td>0</td>\n",
              "      <td>0</td>\n",
              "      <td>1</td>\n",
              "      <td>0</td>\n",
              "      <td>0</td>\n",
              "      <td>1</td>\n",
              "      <td>0</td>\n",
              "      <td>0</td>\n",
              "      <td>1</td>\n",
              "      <td>1</td>\n",
              "      <td>1</td>\n",
              "      <td>0</td>\n",
              "      <td>0</td>\n",
              "      <td>0</td>\n",
              "      <td>0</td>\n",
              "      <td>1</td>\n",
              "      <td>1</td>\n",
              "      <td>1</td>\n",
              "      <td>1</td>\n",
              "      <td>0</td>\n",
              "      <td>0</td>\n",
              "      <td>1</td>\n",
              "      <td>0</td>\n",
              "      <td>1</td>\n",
              "      <td>1</td>\n",
              "      <td>0</td>\n",
              "    </tr>\n",
              "    <tr>\n",
              "      <th>...</th>\n",
              "      <td>...</td>\n",
              "      <td>...</td>\n",
              "      <td>...</td>\n",
              "      <td>...</td>\n",
              "      <td>...</td>\n",
              "      <td>...</td>\n",
              "      <td>...</td>\n",
              "      <td>...</td>\n",
              "      <td>...</td>\n",
              "      <td>...</td>\n",
              "      <td>...</td>\n",
              "      <td>...</td>\n",
              "      <td>...</td>\n",
              "      <td>...</td>\n",
              "      <td>...</td>\n",
              "      <td>...</td>\n",
              "      <td>...</td>\n",
              "      <td>...</td>\n",
              "      <td>...</td>\n",
              "      <td>...</td>\n",
              "      <td>...</td>\n",
              "      <td>...</td>\n",
              "      <td>...</td>\n",
              "      <td>...</td>\n",
              "      <td>...</td>\n",
              "      <td>...</td>\n",
              "      <td>...</td>\n",
              "      <td>...</td>\n",
              "      <td>...</td>\n",
              "      <td>...</td>\n",
              "      <td>...</td>\n",
              "      <td>...</td>\n",
              "      <td>...</td>\n",
              "      <td>...</td>\n",
              "      <td>...</td>\n",
              "      <td>...</td>\n",
              "      <td>...</td>\n",
              "      <td>...</td>\n",
              "      <td>...</td>\n",
              "      <td>...</td>\n",
              "      <td>...</td>\n",
              "      <td>...</td>\n",
              "      <td>...</td>\n",
              "      <td>...</td>\n",
              "      <td>...</td>\n",
              "      <td>...</td>\n",
              "      <td>...</td>\n",
              "      <td>...</td>\n",
              "      <td>...</td>\n",
              "      <td>...</td>\n",
              "      <td>...</td>\n",
              "      <td>...</td>\n",
              "      <td>...</td>\n",
              "      <td>...</td>\n",
              "      <td>...</td>\n",
              "      <td>...</td>\n",
              "      <td>...</td>\n",
              "      <td>...</td>\n",
              "      <td>...</td>\n",
              "      <td>...</td>\n",
              "      <td>...</td>\n",
              "      <td>...</td>\n",
              "      <td>...</td>\n",
              "      <td>...</td>\n",
              "      <td>...</td>\n",
              "      <td>...</td>\n",
              "      <td>...</td>\n",
              "      <td>...</td>\n",
              "      <td>...</td>\n",
              "      <td>...</td>\n",
              "      <td>...</td>\n",
              "      <td>...</td>\n",
              "      <td>...</td>\n",
              "      <td>...</td>\n",
              "      <td>...</td>\n",
              "      <td>...</td>\n",
              "      <td>...</td>\n",
              "      <td>...</td>\n",
              "      <td>...</td>\n",
              "      <td>...</td>\n",
              "      <td>...</td>\n",
              "    </tr>\n",
              "    <tr>\n",
              "      <th>389191</th>\n",
              "      <td>389191</td>\n",
              "      <td>1</td>\n",
              "      <td>1</td>\n",
              "      <td>0</td>\n",
              "      <td>0</td>\n",
              "      <td>0</td>\n",
              "      <td>0</td>\n",
              "      <td>1</td>\n",
              "      <td>0.787827</td>\n",
              "      <td>1</td>\n",
              "      <td>0.111111</td>\n",
              "      <td>0.0</td>\n",
              "      <td>0</td>\n",
              "      <td>0</td>\n",
              "      <td>0</td>\n",
              "      <td>0</td>\n",
              "      <td>0</td>\n",
              "      <td>1</td>\n",
              "      <td>1</td>\n",
              "      <td>5.881235e-18</td>\n",
              "      <td>0.055556</td>\n",
              "      <td>0.000000</td>\n",
              "      <td>0.000000</td>\n",
              "      <td>0.147356</td>\n",
              "      <td>0.398645</td>\n",
              "      <td>-5.140958e-17</td>\n",
              "      <td>0.0</td>\n",
              "      <td>0.1</td>\n",
              "      <td>8.574793e-02</td>\n",
              "      <td>0.000000</td>\n",
              "      <td>0</td>\n",
              "      <td>1</td>\n",
              "      <td>1</td>\n",
              "      <td>1</td>\n",
              "      <td>0</td>\n",
              "      <td>0</td>\n",
              "      <td>0</td>\n",
              "      <td>0</td>\n",
              "      <td>0</td>\n",
              "      <td>1</td>\n",
              "      <td>...</td>\n",
              "      <td>0</td>\n",
              "      <td>1</td>\n",
              "      <td>0</td>\n",
              "      <td>1</td>\n",
              "      <td>1</td>\n",
              "      <td>1</td>\n",
              "      <td>0</td>\n",
              "      <td>0</td>\n",
              "      <td>1</td>\n",
              "      <td>0</td>\n",
              "      <td>0</td>\n",
              "      <td>0</td>\n",
              "      <td>0</td>\n",
              "      <td>1</td>\n",
              "      <td>0</td>\n",
              "      <td>0</td>\n",
              "      <td>1</td>\n",
              "      <td>0</td>\n",
              "      <td>1</td>\n",
              "      <td>1</td>\n",
              "      <td>0</td>\n",
              "      <td>1</td>\n",
              "      <td>0</td>\n",
              "      <td>0</td>\n",
              "      <td>0</td>\n",
              "      <td>1</td>\n",
              "      <td>0</td>\n",
              "      <td>0</td>\n",
              "      <td>0</td>\n",
              "      <td>0</td>\n",
              "      <td>0</td>\n",
              "      <td>1</td>\n",
              "      <td>1</td>\n",
              "      <td>1</td>\n",
              "      <td>1</td>\n",
              "      <td>1</td>\n",
              "      <td>0</td>\n",
              "      <td>1</td>\n",
              "      <td>0</td>\n",
              "      <td>1</td>\n",
              "    </tr>\n",
              "    <tr>\n",
              "      <th>389192</th>\n",
              "      <td>389192</td>\n",
              "      <td>1</td>\n",
              "      <td>0</td>\n",
              "      <td>1</td>\n",
              "      <td>0</td>\n",
              "      <td>0</td>\n",
              "      <td>0</td>\n",
              "      <td>1</td>\n",
              "      <td>0.470010</td>\n",
              "      <td>1</td>\n",
              "      <td>0.111111</td>\n",
              "      <td>0.0</td>\n",
              "      <td>0</td>\n",
              "      <td>0</td>\n",
              "      <td>0</td>\n",
              "      <td>0</td>\n",
              "      <td>0</td>\n",
              "      <td>1</td>\n",
              "      <td>1</td>\n",
              "      <td>5.881235e-18</td>\n",
              "      <td>0.208333</td>\n",
              "      <td>0.000000</td>\n",
              "      <td>0.000000</td>\n",
              "      <td>0.147356</td>\n",
              "      <td>0.398645</td>\n",
              "      <td>-5.140958e-17</td>\n",
              "      <td>0.0</td>\n",
              "      <td>0.1</td>\n",
              "      <td>8.546104e-02</td>\n",
              "      <td>0.000000</td>\n",
              "      <td>0</td>\n",
              "      <td>0</td>\n",
              "      <td>1</td>\n",
              "      <td>0</td>\n",
              "      <td>1</td>\n",
              "      <td>1</td>\n",
              "      <td>0</td>\n",
              "      <td>0</td>\n",
              "      <td>1</td>\n",
              "      <td>0</td>\n",
              "      <td>...</td>\n",
              "      <td>0</td>\n",
              "      <td>1</td>\n",
              "      <td>0</td>\n",
              "      <td>0</td>\n",
              "      <td>1</td>\n",
              "      <td>1</td>\n",
              "      <td>0</td>\n",
              "      <td>0</td>\n",
              "      <td>1</td>\n",
              "      <td>0</td>\n",
              "      <td>1</td>\n",
              "      <td>0</td>\n",
              "      <td>0</td>\n",
              "      <td>1</td>\n",
              "      <td>0</td>\n",
              "      <td>1</td>\n",
              "      <td>0</td>\n",
              "      <td>1</td>\n",
              "      <td>0</td>\n",
              "      <td>0</td>\n",
              "      <td>0</td>\n",
              "      <td>1</td>\n",
              "      <td>1</td>\n",
              "      <td>0</td>\n",
              "      <td>0</td>\n",
              "      <td>1</td>\n",
              "      <td>0</td>\n",
              "      <td>1</td>\n",
              "      <td>0</td>\n",
              "      <td>0</td>\n",
              "      <td>1</td>\n",
              "      <td>0</td>\n",
              "      <td>1</td>\n",
              "      <td>0</td>\n",
              "      <td>1</td>\n",
              "      <td>0</td>\n",
              "      <td>1</td>\n",
              "      <td>1</td>\n",
              "      <td>1</td>\n",
              "      <td>0</td>\n",
              "    </tr>\n",
              "    <tr>\n",
              "      <th>389193</th>\n",
              "      <td>389193</td>\n",
              "      <td>0</td>\n",
              "      <td>1</td>\n",
              "      <td>0</td>\n",
              "      <td>1</td>\n",
              "      <td>0</td>\n",
              "      <td>0</td>\n",
              "      <td>1</td>\n",
              "      <td>0.436048</td>\n",
              "      <td>0</td>\n",
              "      <td>0.000000</td>\n",
              "      <td>0.0</td>\n",
              "      <td>0</td>\n",
              "      <td>0</td>\n",
              "      <td>0</td>\n",
              "      <td>0</td>\n",
              "      <td>0</td>\n",
              "      <td>1</td>\n",
              "      <td>1</td>\n",
              "      <td>5.881235e-18</td>\n",
              "      <td>0.111111</td>\n",
              "      <td>0.000000</td>\n",
              "      <td>0.083333</td>\n",
              "      <td>0.152666</td>\n",
              "      <td>0.398645</td>\n",
              "      <td>-5.140958e-17</td>\n",
              "      <td>0.0</td>\n",
              "      <td>0.4</td>\n",
              "      <td>1.698044e-01</td>\n",
              "      <td>0.000000</td>\n",
              "      <td>0</td>\n",
              "      <td>1</td>\n",
              "      <td>1</td>\n",
              "      <td>1</td>\n",
              "      <td>0</td>\n",
              "      <td>0</td>\n",
              "      <td>0</td>\n",
              "      <td>0</td>\n",
              "      <td>0</td>\n",
              "      <td>0</td>\n",
              "      <td>...</td>\n",
              "      <td>0</td>\n",
              "      <td>1</td>\n",
              "      <td>1</td>\n",
              "      <td>1</td>\n",
              "      <td>0</td>\n",
              "      <td>0</td>\n",
              "      <td>1</td>\n",
              "      <td>0</td>\n",
              "      <td>0</td>\n",
              "      <td>0</td>\n",
              "      <td>1</td>\n",
              "      <td>1</td>\n",
              "      <td>1</td>\n",
              "      <td>1</td>\n",
              "      <td>1</td>\n",
              "      <td>0</td>\n",
              "      <td>0</td>\n",
              "      <td>0</td>\n",
              "      <td>1</td>\n",
              "      <td>0</td>\n",
              "      <td>0</td>\n",
              "      <td>0</td>\n",
              "      <td>1</td>\n",
              "      <td>0</td>\n",
              "      <td>1</td>\n",
              "      <td>1</td>\n",
              "      <td>0</td>\n",
              "      <td>0</td>\n",
              "      <td>1</td>\n",
              "      <td>0</td>\n",
              "      <td>1</td>\n",
              "      <td>0</td>\n",
              "      <td>0</td>\n",
              "      <td>1</td>\n",
              "      <td>0</td>\n",
              "      <td>1</td>\n",
              "      <td>1</td>\n",
              "      <td>0</td>\n",
              "      <td>0</td>\n",
              "      <td>1</td>\n",
              "    </tr>\n",
              "    <tr>\n",
              "      <th>389194</th>\n",
              "      <td>389194</td>\n",
              "      <td>1</td>\n",
              "      <td>0</td>\n",
              "      <td>1</td>\n",
              "      <td>0</td>\n",
              "      <td>1</td>\n",
              "      <td>0</td>\n",
              "      <td>0</td>\n",
              "      <td>0.677875</td>\n",
              "      <td>0</td>\n",
              "      <td>0.111111</td>\n",
              "      <td>0.0</td>\n",
              "      <td>1</td>\n",
              "      <td>1</td>\n",
              "      <td>0</td>\n",
              "      <td>0</td>\n",
              "      <td>0</td>\n",
              "      <td>0</td>\n",
              "      <td>0</td>\n",
              "      <td>5.881235e-18</td>\n",
              "      <td>0.388889</td>\n",
              "      <td>0.000000</td>\n",
              "      <td>0.000000</td>\n",
              "      <td>0.147356</td>\n",
              "      <td>0.398645</td>\n",
              "      <td>-5.140958e-17</td>\n",
              "      <td>0.0</td>\n",
              "      <td>0.1</td>\n",
              "      <td>1.388212e-01</td>\n",
              "      <td>0.000000</td>\n",
              "      <td>0</td>\n",
              "      <td>1</td>\n",
              "      <td>1</td>\n",
              "      <td>1</td>\n",
              "      <td>0</td>\n",
              "      <td>0</td>\n",
              "      <td>0</td>\n",
              "      <td>0</td>\n",
              "      <td>0</td>\n",
              "      <td>1</td>\n",
              "      <td>...</td>\n",
              "      <td>1</td>\n",
              "      <td>1</td>\n",
              "      <td>0</td>\n",
              "      <td>1</td>\n",
              "      <td>0</td>\n",
              "      <td>1</td>\n",
              "      <td>1</td>\n",
              "      <td>0</td>\n",
              "      <td>1</td>\n",
              "      <td>0</td>\n",
              "      <td>0</td>\n",
              "      <td>0</td>\n",
              "      <td>1</td>\n",
              "      <td>1</td>\n",
              "      <td>0</td>\n",
              "      <td>0</td>\n",
              "      <td>1</td>\n",
              "      <td>0</td>\n",
              "      <td>0</td>\n",
              "      <td>0</td>\n",
              "      <td>0</td>\n",
              "      <td>0</td>\n",
              "      <td>1</td>\n",
              "      <td>1</td>\n",
              "      <td>1</td>\n",
              "      <td>0</td>\n",
              "      <td>1</td>\n",
              "      <td>0</td>\n",
              "      <td>1</td>\n",
              "      <td>0</td>\n",
              "      <td>0</td>\n",
              "      <td>1</td>\n",
              "      <td>0</td>\n",
              "      <td>0</td>\n",
              "      <td>0</td>\n",
              "      <td>1</td>\n",
              "      <td>1</td>\n",
              "      <td>1</td>\n",
              "      <td>1</td>\n",
              "      <td>0</td>\n",
              "    </tr>\n",
              "    <tr>\n",
              "      <th>389195</th>\n",
              "      <td>389195</td>\n",
              "      <td>1</td>\n",
              "      <td>1</td>\n",
              "      <td>0</td>\n",
              "      <td>0</td>\n",
              "      <td>1</td>\n",
              "      <td>0</td>\n",
              "      <td>0</td>\n",
              "      <td>0.690540</td>\n",
              "      <td>0</td>\n",
              "      <td>0.111111</td>\n",
              "      <td>0.0</td>\n",
              "      <td>0</td>\n",
              "      <td>0</td>\n",
              "      <td>0</td>\n",
              "      <td>0</td>\n",
              "      <td>0</td>\n",
              "      <td>1</td>\n",
              "      <td>1</td>\n",
              "      <td>5.881235e-18</td>\n",
              "      <td>0.000000</td>\n",
              "      <td>0.000000</td>\n",
              "      <td>0.000000</td>\n",
              "      <td>0.111251</td>\n",
              "      <td>0.838114</td>\n",
              "      <td>-5.140958e-17</td>\n",
              "      <td>0.0</td>\n",
              "      <td>0.0</td>\n",
              "      <td>-2.188272e-17</td>\n",
              "      <td>0.000000</td>\n",
              "      <td>0</td>\n",
              "      <td>1</td>\n",
              "      <td>1</td>\n",
              "      <td>1</td>\n",
              "      <td>0</td>\n",
              "      <td>0</td>\n",
              "      <td>0</td>\n",
              "      <td>0</td>\n",
              "      <td>0</td>\n",
              "      <td>0</td>\n",
              "      <td>...</td>\n",
              "      <td>0</td>\n",
              "      <td>0</td>\n",
              "      <td>1</td>\n",
              "      <td>1</td>\n",
              "      <td>0</td>\n",
              "      <td>1</td>\n",
              "      <td>0</td>\n",
              "      <td>1</td>\n",
              "      <td>0</td>\n",
              "      <td>0</td>\n",
              "      <td>1</td>\n",
              "      <td>0</td>\n",
              "      <td>1</td>\n",
              "      <td>1</td>\n",
              "      <td>0</td>\n",
              "      <td>0</td>\n",
              "      <td>0</td>\n",
              "      <td>0</td>\n",
              "      <td>0</td>\n",
              "      <td>1</td>\n",
              "      <td>0</td>\n",
              "      <td>0</td>\n",
              "      <td>1</td>\n",
              "      <td>1</td>\n",
              "      <td>1</td>\n",
              "      <td>1</td>\n",
              "      <td>1</td>\n",
              "      <td>0</td>\n",
              "      <td>0</td>\n",
              "      <td>0</td>\n",
              "      <td>1</td>\n",
              "      <td>1</td>\n",
              "      <td>0</td>\n",
              "      <td>0</td>\n",
              "      <td>0</td>\n",
              "      <td>1</td>\n",
              "      <td>1</td>\n",
              "      <td>0</td>\n",
              "      <td>1</td>\n",
              "      <td>0</td>\n",
              "    </tr>\n",
              "  </tbody>\n",
              "</table>\n",
              "<p>389196 rows × 246 columns</p>\n",
              "</div>"
            ],
            "text/plain": [
              "         INDEX  UF_1  UF_2  UF_3  ...  CEP4_13  CEP4_14  IND_BOM_1_1  IND_BOM_1_2\n",
              "0            0     1     1     1  ...        1        1            0            1\n",
              "1            1     1     0     1  ...        0        0            1            0\n",
              "2            2     1     0     1  ...        1        0            1            0\n",
              "3            3     1     1     1  ...        1        0            1            0\n",
              "4            4     1     1     0  ...        0        1            1            0\n",
              "...        ...   ...   ...   ...  ...      ...      ...          ...          ...\n",
              "389191  389191     1     1     0  ...        0        1            0            1\n",
              "389192  389192     1     0     1  ...        1        1            1            0\n",
              "389193  389193     0     1     0  ...        1        0            0            1\n",
              "389194  389194     1     0     1  ...        1        1            1            0\n",
              "389195  389195     1     1     0  ...        1        0            1            0\n",
              "\n",
              "[389196 rows x 246 columns]"
            ]
          },
          "metadata": {},
          "execution_count": 6
        }
      ]
    },
    {
      "cell_type": "code",
      "metadata": {
        "id": "LmM84dAJW_cZ"
      },
      "source": [
        "dataset.drop(columns=['INDEX'], inplace=True)"
      ],
      "execution_count": 7,
      "outputs": []
    },
    {
      "cell_type": "code",
      "metadata": {
        "colab": {
          "base_uri": "https://localhost:8080/",
          "height": 350
        },
        "id": "HkiGu-AExOoZ",
        "outputId": "17423e54-b798-4ccf-ef9b-847c655cd501"
      },
      "source": [
        "dataset.describe()"
      ],
      "execution_count": 8,
      "outputs": [
        {
          "output_type": "execute_result",
          "data": {
            "text/html": [
              "<div>\n",
              "<style scoped>\n",
              "    .dataframe tbody tr th:only-of-type {\n",
              "        vertical-align: middle;\n",
              "    }\n",
              "\n",
              "    .dataframe tbody tr th {\n",
              "        vertical-align: top;\n",
              "    }\n",
              "\n",
              "    .dataframe thead th {\n",
              "        text-align: right;\n",
              "    }\n",
              "</style>\n",
              "<table border=\"1\" class=\"dataframe\">\n",
              "  <thead>\n",
              "    <tr style=\"text-align: right;\">\n",
              "      <th></th>\n",
              "      <th>UF_1</th>\n",
              "      <th>UF_2</th>\n",
              "      <th>UF_3</th>\n",
              "      <th>UF_4</th>\n",
              "      <th>UF_5</th>\n",
              "      <th>UF_6</th>\n",
              "      <th>UF_7</th>\n",
              "      <th>IDADE</th>\n",
              "      <th>SEXO_1</th>\n",
              "      <th>NIVEL_RELACIONAMENTO_CREDITO01</th>\n",
              "      <th>NIVEL_RELACIONAMENTO_CREDITO02</th>\n",
              "      <th>BANCO_REST_IRPF_ULTIMA_1</th>\n",
              "      <th>BANCO_REST_IRPF_ULTIMA_2</th>\n",
              "      <th>BANCO_REST_IRPF_ULTIMA_3</th>\n",
              "      <th>BANCO_REST_IRPF_ULTIMA_4</th>\n",
              "      <th>BANCO_REST_IRPF_ULTIMA_5</th>\n",
              "      <th>BANCO_REST_IRPF_ULTIMA_6</th>\n",
              "      <th>BANCO_REST_IRPF_ULTIMA_7</th>\n",
              "      <th>ATIVIDADE_EMAIL</th>\n",
              "      <th>EXPOSICAO_ENDERECO</th>\n",
              "      <th>EXPOSICAO_EMAIL</th>\n",
              "      <th>EXPOSICAO_TELEFONE</th>\n",
              "      <th>ATIVIDADE_ENDERECO</th>\n",
              "      <th>ATUALIZACAO_ENDERECO</th>\n",
              "      <th>ATUALIZACAO_EMAIL</th>\n",
              "      <th>EXPOSICAO_CONSUMIDOR_EMAILS</th>\n",
              "      <th>EXPOSICAO_CONSUMIDOR_TELEFONES</th>\n",
              "      <th>ATIVIDADE_TELEFONE</th>\n",
              "      <th>VALOR_PARCELA_BOLSA_FAMILIA</th>\n",
              "      <th>FLAG_BOLSA_FAMILIA_1</th>\n",
              "      <th>SIGLA_PARTIDO_FILIADO_1</th>\n",
              "      <th>SIGLA_PARTIDO_FILIADO_2</th>\n",
              "      <th>SIGLA_PARTIDO_FILIADO_3</th>\n",
              "      <th>SIGLA_PARTIDO_FILIADO_4</th>\n",
              "      <th>SIGLA_PARTIDO_FILIADO_5</th>\n",
              "      <th>SIGLA_PARTIDO_FILIADO_6</th>\n",
              "      <th>SIGLA_PARTIDO_FILIADO_7</th>\n",
              "      <th>FLAG_FILIADO_PARTIDO_POLITICO_1</th>\n",
              "      <th>FLAG_PROUNI_1</th>\n",
              "      <th>RENDA_VIZINHANCA_1</th>\n",
              "      <th>...</th>\n",
              "      <th>CEP1_3</th>\n",
              "      <th>CEP1_4</th>\n",
              "      <th>CEP1_5</th>\n",
              "      <th>CEP2_1</th>\n",
              "      <th>CEP2_2</th>\n",
              "      <th>CEP2_3</th>\n",
              "      <th>CEP2_4</th>\n",
              "      <th>CEP2_5</th>\n",
              "      <th>CEP2_6</th>\n",
              "      <th>CEP2_7</th>\n",
              "      <th>CEP2_8</th>\n",
              "      <th>CEP2_9</th>\n",
              "      <th>CEP3_1</th>\n",
              "      <th>CEP3_2</th>\n",
              "      <th>CEP3_3</th>\n",
              "      <th>CEP3_4</th>\n",
              "      <th>CEP3_5</th>\n",
              "      <th>CEP3_6</th>\n",
              "      <th>CEP3_7</th>\n",
              "      <th>CEP3_8</th>\n",
              "      <th>CEP3_9</th>\n",
              "      <th>CEP3_10</th>\n",
              "      <th>CEP3_11</th>\n",
              "      <th>CEP3_12</th>\n",
              "      <th>CEP4_1</th>\n",
              "      <th>CEP4_2</th>\n",
              "      <th>CEP4_3</th>\n",
              "      <th>CEP4_4</th>\n",
              "      <th>CEP4_5</th>\n",
              "      <th>CEP4_6</th>\n",
              "      <th>CEP4_7</th>\n",
              "      <th>CEP4_8</th>\n",
              "      <th>CEP4_9</th>\n",
              "      <th>CEP4_10</th>\n",
              "      <th>CEP4_11</th>\n",
              "      <th>CEP4_12</th>\n",
              "      <th>CEP4_13</th>\n",
              "      <th>CEP4_14</th>\n",
              "      <th>IND_BOM_1_1</th>\n",
              "      <th>IND_BOM_1_2</th>\n",
              "    </tr>\n",
              "  </thead>\n",
              "  <tbody>\n",
              "    <tr>\n",
              "      <th>count</th>\n",
              "      <td>389196.000000</td>\n",
              "      <td>389196.000000</td>\n",
              "      <td>389196.000000</td>\n",
              "      <td>389196.000000</td>\n",
              "      <td>389196.000000</td>\n",
              "      <td>389196.000000</td>\n",
              "      <td>389196.000000</td>\n",
              "      <td>3.891960e+05</td>\n",
              "      <td>389196.000000</td>\n",
              "      <td>389196.000000</td>\n",
              "      <td>389196.000000</td>\n",
              "      <td>389196.000000</td>\n",
              "      <td>389196.000000</td>\n",
              "      <td>389196.000000</td>\n",
              "      <td>389196.000000</td>\n",
              "      <td>389196.000000</td>\n",
              "      <td>389196.000000</td>\n",
              "      <td>389196.000000</td>\n",
              "      <td>3.891960e+05</td>\n",
              "      <td>389196.000000</td>\n",
              "      <td>389196.000000</td>\n",
              "      <td>389196.000000</td>\n",
              "      <td>3.891960e+05</td>\n",
              "      <td>3.891960e+05</td>\n",
              "      <td>3.891960e+05</td>\n",
              "      <td>389196.000000</td>\n",
              "      <td>389196.000000</td>\n",
              "      <td>3.891960e+05</td>\n",
              "      <td>389196.000000</td>\n",
              "      <td>389196.000000</td>\n",
              "      <td>389196.000000</td>\n",
              "      <td>389196.000000</td>\n",
              "      <td>389196.000000</td>\n",
              "      <td>389196.000000</td>\n",
              "      <td>389196.000000</td>\n",
              "      <td>389196.000000</td>\n",
              "      <td>389196.000000</td>\n",
              "      <td>389196.000000</td>\n",
              "      <td>389196.000000</td>\n",
              "      <td>389196.000000</td>\n",
              "      <td>...</td>\n",
              "      <td>389196.000000</td>\n",
              "      <td>389196.00000</td>\n",
              "      <td>389196.000000</td>\n",
              "      <td>389196.000000</td>\n",
              "      <td>389196.000000</td>\n",
              "      <td>389196.000000</td>\n",
              "      <td>389196.000000</td>\n",
              "      <td>389196.000000</td>\n",
              "      <td>389196.000000</td>\n",
              "      <td>389196.000000</td>\n",
              "      <td>389196.000000</td>\n",
              "      <td>389196.000000</td>\n",
              "      <td>389196.000000</td>\n",
              "      <td>389196.000000</td>\n",
              "      <td>389196.000000</td>\n",
              "      <td>389196.000000</td>\n",
              "      <td>389196.000000</td>\n",
              "      <td>389196.000000</td>\n",
              "      <td>389196.000000</td>\n",
              "      <td>389196.000000</td>\n",
              "      <td>389196.000000</td>\n",
              "      <td>389196.000000</td>\n",
              "      <td>389196.000000</td>\n",
              "      <td>389196.000000</td>\n",
              "      <td>389196.000000</td>\n",
              "      <td>389196.000000</td>\n",
              "      <td>389196.000000</td>\n",
              "      <td>389196.00000</td>\n",
              "      <td>389196.000000</td>\n",
              "      <td>389196.000000</td>\n",
              "      <td>389196.000000</td>\n",
              "      <td>389196.000000</td>\n",
              "      <td>389196.000000</td>\n",
              "      <td>389196.000000</td>\n",
              "      <td>389196.000000</td>\n",
              "      <td>389196.000000</td>\n",
              "      <td>389196.000000</td>\n",
              "      <td>389196.000000</td>\n",
              "      <td>389196.000000</td>\n",
              "      <td>389196.000000</td>\n",
              "    </tr>\n",
              "    <tr>\n",
              "      <th>mean</th>\n",
              "      <td>0.889274</td>\n",
              "      <td>0.691952</td>\n",
              "      <td>0.476552</td>\n",
              "      <td>0.296195</td>\n",
              "      <td>0.241179</td>\n",
              "      <td>0.218011</td>\n",
              "      <td>0.186836</td>\n",
              "      <td>4.552049e-01</td>\n",
              "      <td>0.521514</td>\n",
              "      <td>0.134915</td>\n",
              "      <td>0.002071</td>\n",
              "      <td>0.076828</td>\n",
              "      <td>0.033330</td>\n",
              "      <td>0.017015</td>\n",
              "      <td>0.015362</td>\n",
              "      <td>0.011848</td>\n",
              "      <td>0.926109</td>\n",
              "      <td>0.919508</td>\n",
              "      <td>1.259255e-01</td>\n",
              "      <td>0.093091</td>\n",
              "      <td>0.037783</td>\n",
              "      <td>0.063266</td>\n",
              "      <td>1.959749e-01</td>\n",
              "      <td>5.938128e-01</td>\n",
              "      <td>7.677453e-02</td>\n",
              "      <td>0.099535</td>\n",
              "      <td>0.159769</td>\n",
              "      <td>2.032828e-01</td>\n",
              "      <td>0.057815</td>\n",
              "      <td>0.211993</td>\n",
              "      <td>0.964923</td>\n",
              "      <td>0.892833</td>\n",
              "      <td>0.852432</td>\n",
              "      <td>0.086612</td>\n",
              "      <td>0.074618</td>\n",
              "      <td>0.069137</td>\n",
              "      <td>0.059446</td>\n",
              "      <td>0.229172</td>\n",
              "      <td>0.578819</td>\n",
              "      <td>0.079364</td>\n",
              "      <td>...</td>\n",
              "      <td>0.389344</td>\n",
              "      <td>0.36792</td>\n",
              "      <td>0.352971</td>\n",
              "      <td>0.791557</td>\n",
              "      <td>0.587570</td>\n",
              "      <td>0.468240</td>\n",
              "      <td>0.414927</td>\n",
              "      <td>0.372478</td>\n",
              "      <td>0.356062</td>\n",
              "      <td>0.341576</td>\n",
              "      <td>0.337578</td>\n",
              "      <td>0.330011</td>\n",
              "      <td>0.750403</td>\n",
              "      <td>0.607314</td>\n",
              "      <td>0.450488</td>\n",
              "      <td>0.395862</td>\n",
              "      <td>0.379302</td>\n",
              "      <td>0.333115</td>\n",
              "      <td>0.329926</td>\n",
              "      <td>0.320209</td>\n",
              "      <td>0.346702</td>\n",
              "      <td>0.332462</td>\n",
              "      <td>0.375312</td>\n",
              "      <td>0.378904</td>\n",
              "      <td>0.806082</td>\n",
              "      <td>0.691636</td>\n",
              "      <td>0.598113</td>\n",
              "      <td>0.51306</td>\n",
              "      <td>0.475825</td>\n",
              "      <td>0.437052</td>\n",
              "      <td>0.423378</td>\n",
              "      <td>0.417540</td>\n",
              "      <td>0.425708</td>\n",
              "      <td>0.459820</td>\n",
              "      <td>0.440842</td>\n",
              "      <td>0.436896</td>\n",
              "      <td>0.433709</td>\n",
              "      <td>0.440339</td>\n",
              "      <td>0.655449</td>\n",
              "      <td>0.344551</td>\n",
              "    </tr>\n",
              "    <tr>\n",
              "      <th>std</th>\n",
              "      <td>0.313793</td>\n",
              "      <td>0.461687</td>\n",
              "      <td>0.499451</td>\n",
              "      <td>0.456579</td>\n",
              "      <td>0.427799</td>\n",
              "      <td>0.412895</td>\n",
              "      <td>0.389781</td>\n",
              "      <td>2.537459e-01</td>\n",
              "      <td>0.499538</td>\n",
              "      <td>0.133136</td>\n",
              "      <td>0.043717</td>\n",
              "      <td>0.266318</td>\n",
              "      <td>0.179498</td>\n",
              "      <td>0.129326</td>\n",
              "      <td>0.122990</td>\n",
              "      <td>0.108200</td>\n",
              "      <td>0.261593</td>\n",
              "      <td>0.272053</td>\n",
              "      <td>2.457121e-01</td>\n",
              "      <td>0.160208</td>\n",
              "      <td>0.110964</td>\n",
              "      <td>0.144057</td>\n",
              "      <td>1.781598e-01</td>\n",
              "      <td>3.524863e-01</td>\n",
              "      <td>1.888183e-01</td>\n",
              "      <td>0.195807</td>\n",
              "      <td>0.205465</td>\n",
              "      <td>2.510087e-01</td>\n",
              "      <td>0.145072</td>\n",
              "      <td>0.408721</td>\n",
              "      <td>0.183976</td>\n",
              "      <td>0.309326</td>\n",
              "      <td>0.354672</td>\n",
              "      <td>0.281266</td>\n",
              "      <td>0.262774</td>\n",
              "      <td>0.253688</td>\n",
              "      <td>0.236457</td>\n",
              "      <td>0.420301</td>\n",
              "      <td>0.493749</td>\n",
              "      <td>0.270306</td>\n",
              "      <td>...</td>\n",
              "      <td>0.487602</td>\n",
              "      <td>0.48224</td>\n",
              "      <td>0.477894</td>\n",
              "      <td>0.406195</td>\n",
              "      <td>0.492272</td>\n",
              "      <td>0.498991</td>\n",
              "      <td>0.492710</td>\n",
              "      <td>0.483465</td>\n",
              "      <td>0.478835</td>\n",
              "      <td>0.474239</td>\n",
              "      <td>0.472884</td>\n",
              "      <td>0.470217</td>\n",
              "      <td>0.432780</td>\n",
              "      <td>0.488349</td>\n",
              "      <td>0.497543</td>\n",
              "      <td>0.489036</td>\n",
              "      <td>0.485214</td>\n",
              "      <td>0.471328</td>\n",
              "      <td>0.470187</td>\n",
              "      <td>0.466557</td>\n",
              "      <td>0.475920</td>\n",
              "      <td>0.471096</td>\n",
              "      <td>0.484204</td>\n",
              "      <td>0.485115</td>\n",
              "      <td>0.395366</td>\n",
              "      <td>0.461818</td>\n",
              "      <td>0.490280</td>\n",
              "      <td>0.49983</td>\n",
              "      <td>0.499416</td>\n",
              "      <td>0.496022</td>\n",
              "      <td>0.494095</td>\n",
              "      <td>0.493154</td>\n",
              "      <td>0.494451</td>\n",
              "      <td>0.498384</td>\n",
              "      <td>0.496489</td>\n",
              "      <td>0.496002</td>\n",
              "      <td>0.495587</td>\n",
              "      <td>0.496428</td>\n",
              "      <td>0.475222</td>\n",
              "      <td>0.475222</td>\n",
              "    </tr>\n",
              "    <tr>\n",
              "      <th>min</th>\n",
              "      <td>0.000000</td>\n",
              "      <td>0.000000</td>\n",
              "      <td>0.000000</td>\n",
              "      <td>0.000000</td>\n",
              "      <td>0.000000</td>\n",
              "      <td>0.000000</td>\n",
              "      <td>0.000000</td>\n",
              "      <td>5.506237e-16</td>\n",
              "      <td>0.000000</td>\n",
              "      <td>0.000000</td>\n",
              "      <td>0.000000</td>\n",
              "      <td>0.000000</td>\n",
              "      <td>0.000000</td>\n",
              "      <td>0.000000</td>\n",
              "      <td>0.000000</td>\n",
              "      <td>0.000000</td>\n",
              "      <td>0.000000</td>\n",
              "      <td>0.000000</td>\n",
              "      <td>5.881235e-18</td>\n",
              "      <td>0.000000</td>\n",
              "      <td>0.000000</td>\n",
              "      <td>0.000000</td>\n",
              "      <td>2.044015e-16</td>\n",
              "      <td>1.591218e-16</td>\n",
              "      <td>-5.140958e-17</td>\n",
              "      <td>0.000000</td>\n",
              "      <td>0.000000</td>\n",
              "      <td>-2.188272e-17</td>\n",
              "      <td>0.000000</td>\n",
              "      <td>0.000000</td>\n",
              "      <td>0.000000</td>\n",
              "      <td>0.000000</td>\n",
              "      <td>0.000000</td>\n",
              "      <td>0.000000</td>\n",
              "      <td>0.000000</td>\n",
              "      <td>0.000000</td>\n",
              "      <td>0.000000</td>\n",
              "      <td>0.000000</td>\n",
              "      <td>0.000000</td>\n",
              "      <td>0.000000</td>\n",
              "      <td>...</td>\n",
              "      <td>0.000000</td>\n",
              "      <td>0.00000</td>\n",
              "      <td>0.000000</td>\n",
              "      <td>0.000000</td>\n",
              "      <td>0.000000</td>\n",
              "      <td>0.000000</td>\n",
              "      <td>0.000000</td>\n",
              "      <td>0.000000</td>\n",
              "      <td>0.000000</td>\n",
              "      <td>0.000000</td>\n",
              "      <td>0.000000</td>\n",
              "      <td>0.000000</td>\n",
              "      <td>0.000000</td>\n",
              "      <td>0.000000</td>\n",
              "      <td>0.000000</td>\n",
              "      <td>0.000000</td>\n",
              "      <td>0.000000</td>\n",
              "      <td>0.000000</td>\n",
              "      <td>0.000000</td>\n",
              "      <td>0.000000</td>\n",
              "      <td>0.000000</td>\n",
              "      <td>0.000000</td>\n",
              "      <td>0.000000</td>\n",
              "      <td>0.000000</td>\n",
              "      <td>0.000000</td>\n",
              "      <td>0.000000</td>\n",
              "      <td>0.000000</td>\n",
              "      <td>0.00000</td>\n",
              "      <td>0.000000</td>\n",
              "      <td>0.000000</td>\n",
              "      <td>0.000000</td>\n",
              "      <td>0.000000</td>\n",
              "      <td>0.000000</td>\n",
              "      <td>0.000000</td>\n",
              "      <td>0.000000</td>\n",
              "      <td>0.000000</td>\n",
              "      <td>0.000000</td>\n",
              "      <td>0.000000</td>\n",
              "      <td>0.000000</td>\n",
              "      <td>0.000000</td>\n",
              "    </tr>\n",
              "    <tr>\n",
              "      <th>25%</th>\n",
              "      <td>1.000000</td>\n",
              "      <td>0.000000</td>\n",
              "      <td>0.000000</td>\n",
              "      <td>0.000000</td>\n",
              "      <td>0.000000</td>\n",
              "      <td>0.000000</td>\n",
              "      <td>0.000000</td>\n",
              "      <td>2.507866e-01</td>\n",
              "      <td>0.000000</td>\n",
              "      <td>0.111111</td>\n",
              "      <td>0.000000</td>\n",
              "      <td>0.000000</td>\n",
              "      <td>0.000000</td>\n",
              "      <td>0.000000</td>\n",
              "      <td>0.000000</td>\n",
              "      <td>0.000000</td>\n",
              "      <td>1.000000</td>\n",
              "      <td>1.000000</td>\n",
              "      <td>5.881235e-18</td>\n",
              "      <td>0.000000</td>\n",
              "      <td>0.000000</td>\n",
              "      <td>0.000000</td>\n",
              "      <td>1.473561e-01</td>\n",
              "      <td>3.986452e-01</td>\n",
              "      <td>-5.140958e-17</td>\n",
              "      <td>0.000000</td>\n",
              "      <td>0.000000</td>\n",
              "      <td>-2.188272e-17</td>\n",
              "      <td>0.000000</td>\n",
              "      <td>0.000000</td>\n",
              "      <td>1.000000</td>\n",
              "      <td>1.000000</td>\n",
              "      <td>1.000000</td>\n",
              "      <td>0.000000</td>\n",
              "      <td>0.000000</td>\n",
              "      <td>0.000000</td>\n",
              "      <td>0.000000</td>\n",
              "      <td>0.000000</td>\n",
              "      <td>0.000000</td>\n",
              "      <td>0.000000</td>\n",
              "      <td>...</td>\n",
              "      <td>0.000000</td>\n",
              "      <td>0.00000</td>\n",
              "      <td>0.000000</td>\n",
              "      <td>1.000000</td>\n",
              "      <td>0.000000</td>\n",
              "      <td>0.000000</td>\n",
              "      <td>0.000000</td>\n",
              "      <td>0.000000</td>\n",
              "      <td>0.000000</td>\n",
              "      <td>0.000000</td>\n",
              "      <td>0.000000</td>\n",
              "      <td>0.000000</td>\n",
              "      <td>1.000000</td>\n",
              "      <td>0.000000</td>\n",
              "      <td>0.000000</td>\n",
              "      <td>0.000000</td>\n",
              "      <td>0.000000</td>\n",
              "      <td>0.000000</td>\n",
              "      <td>0.000000</td>\n",
              "      <td>0.000000</td>\n",
              "      <td>0.000000</td>\n",
              "      <td>0.000000</td>\n",
              "      <td>0.000000</td>\n",
              "      <td>0.000000</td>\n",
              "      <td>1.000000</td>\n",
              "      <td>0.000000</td>\n",
              "      <td>0.000000</td>\n",
              "      <td>0.00000</td>\n",
              "      <td>0.000000</td>\n",
              "      <td>0.000000</td>\n",
              "      <td>0.000000</td>\n",
              "      <td>0.000000</td>\n",
              "      <td>0.000000</td>\n",
              "      <td>0.000000</td>\n",
              "      <td>0.000000</td>\n",
              "      <td>0.000000</td>\n",
              "      <td>0.000000</td>\n",
              "      <td>0.000000</td>\n",
              "      <td>0.000000</td>\n",
              "      <td>0.000000</td>\n",
              "    </tr>\n",
              "    <tr>\n",
              "      <th>50%</th>\n",
              "      <td>1.000000</td>\n",
              "      <td>1.000000</td>\n",
              "      <td>0.000000</td>\n",
              "      <td>0.000000</td>\n",
              "      <td>0.000000</td>\n",
              "      <td>0.000000</td>\n",
              "      <td>0.000000</td>\n",
              "      <td>4.375241e-01</td>\n",
              "      <td>1.000000</td>\n",
              "      <td>0.111111</td>\n",
              "      <td>0.000000</td>\n",
              "      <td>0.000000</td>\n",
              "      <td>0.000000</td>\n",
              "      <td>0.000000</td>\n",
              "      <td>0.000000</td>\n",
              "      <td>0.000000</td>\n",
              "      <td>1.000000</td>\n",
              "      <td>1.000000</td>\n",
              "      <td>5.881235e-18</td>\n",
              "      <td>0.041667</td>\n",
              "      <td>0.000000</td>\n",
              "      <td>0.000000</td>\n",
              "      <td>1.473561e-01</td>\n",
              "      <td>8.158624e-01</td>\n",
              "      <td>-5.140958e-17</td>\n",
              "      <td>0.000000</td>\n",
              "      <td>0.100000</td>\n",
              "      <td>1.388212e-01</td>\n",
              "      <td>0.000000</td>\n",
              "      <td>0.000000</td>\n",
              "      <td>1.000000</td>\n",
              "      <td>1.000000</td>\n",
              "      <td>1.000000</td>\n",
              "      <td>0.000000</td>\n",
              "      <td>0.000000</td>\n",
              "      <td>0.000000</td>\n",
              "      <td>0.000000</td>\n",
              "      <td>0.000000</td>\n",
              "      <td>1.000000</td>\n",
              "      <td>0.000000</td>\n",
              "      <td>...</td>\n",
              "      <td>0.000000</td>\n",
              "      <td>0.00000</td>\n",
              "      <td>0.000000</td>\n",
              "      <td>1.000000</td>\n",
              "      <td>1.000000</td>\n",
              "      <td>0.000000</td>\n",
              "      <td>0.000000</td>\n",
              "      <td>0.000000</td>\n",
              "      <td>0.000000</td>\n",
              "      <td>0.000000</td>\n",
              "      <td>0.000000</td>\n",
              "      <td>0.000000</td>\n",
              "      <td>1.000000</td>\n",
              "      <td>1.000000</td>\n",
              "      <td>0.000000</td>\n",
              "      <td>0.000000</td>\n",
              "      <td>0.000000</td>\n",
              "      <td>0.000000</td>\n",
              "      <td>0.000000</td>\n",
              "      <td>0.000000</td>\n",
              "      <td>0.000000</td>\n",
              "      <td>0.000000</td>\n",
              "      <td>0.000000</td>\n",
              "      <td>0.000000</td>\n",
              "      <td>1.000000</td>\n",
              "      <td>1.000000</td>\n",
              "      <td>1.000000</td>\n",
              "      <td>1.00000</td>\n",
              "      <td>0.000000</td>\n",
              "      <td>0.000000</td>\n",
              "      <td>0.000000</td>\n",
              "      <td>0.000000</td>\n",
              "      <td>0.000000</td>\n",
              "      <td>0.000000</td>\n",
              "      <td>0.000000</td>\n",
              "      <td>0.000000</td>\n",
              "      <td>0.000000</td>\n",
              "      <td>0.000000</td>\n",
              "      <td>1.000000</td>\n",
              "      <td>0.000000</td>\n",
              "    </tr>\n",
              "    <tr>\n",
              "      <th>75%</th>\n",
              "      <td>1.000000</td>\n",
              "      <td>1.000000</td>\n",
              "      <td>1.000000</td>\n",
              "      <td>1.000000</td>\n",
              "      <td>0.000000</td>\n",
              "      <td>0.000000</td>\n",
              "      <td>0.000000</td>\n",
              "      <td>6.578835e-01</td>\n",
              "      <td>1.000000</td>\n",
              "      <td>0.111111</td>\n",
              "      <td>0.000000</td>\n",
              "      <td>0.000000</td>\n",
              "      <td>0.000000</td>\n",
              "      <td>0.000000</td>\n",
              "      <td>0.000000</td>\n",
              "      <td>0.000000</td>\n",
              "      <td>1.000000</td>\n",
              "      <td>1.000000</td>\n",
              "      <td>5.694352e-02</td>\n",
              "      <td>0.111111</td>\n",
              "      <td>0.010526</td>\n",
              "      <td>0.055556</td>\n",
              "      <td>1.473561e-01</td>\n",
              "      <td>8.506305e-01</td>\n",
              "      <td>2.562665e-02</td>\n",
              "      <td>0.200000</td>\n",
              "      <td>0.200000</td>\n",
              "      <td>2.016484e-01</td>\n",
              "      <td>0.000000</td>\n",
              "      <td>0.000000</td>\n",
              "      <td>1.000000</td>\n",
              "      <td>1.000000</td>\n",
              "      <td>1.000000</td>\n",
              "      <td>0.000000</td>\n",
              "      <td>0.000000</td>\n",
              "      <td>0.000000</td>\n",
              "      <td>0.000000</td>\n",
              "      <td>0.000000</td>\n",
              "      <td>1.000000</td>\n",
              "      <td>0.000000</td>\n",
              "      <td>...</td>\n",
              "      <td>1.000000</td>\n",
              "      <td>1.00000</td>\n",
              "      <td>1.000000</td>\n",
              "      <td>1.000000</td>\n",
              "      <td>1.000000</td>\n",
              "      <td>1.000000</td>\n",
              "      <td>1.000000</td>\n",
              "      <td>1.000000</td>\n",
              "      <td>1.000000</td>\n",
              "      <td>1.000000</td>\n",
              "      <td>1.000000</td>\n",
              "      <td>1.000000</td>\n",
              "      <td>1.000000</td>\n",
              "      <td>1.000000</td>\n",
              "      <td>1.000000</td>\n",
              "      <td>1.000000</td>\n",
              "      <td>1.000000</td>\n",
              "      <td>1.000000</td>\n",
              "      <td>1.000000</td>\n",
              "      <td>1.000000</td>\n",
              "      <td>1.000000</td>\n",
              "      <td>1.000000</td>\n",
              "      <td>1.000000</td>\n",
              "      <td>1.000000</td>\n",
              "      <td>1.000000</td>\n",
              "      <td>1.000000</td>\n",
              "      <td>1.000000</td>\n",
              "      <td>1.00000</td>\n",
              "      <td>1.000000</td>\n",
              "      <td>1.000000</td>\n",
              "      <td>1.000000</td>\n",
              "      <td>1.000000</td>\n",
              "      <td>1.000000</td>\n",
              "      <td>1.000000</td>\n",
              "      <td>1.000000</td>\n",
              "      <td>1.000000</td>\n",
              "      <td>1.000000</td>\n",
              "      <td>1.000000</td>\n",
              "      <td>1.000000</td>\n",
              "      <td>1.000000</td>\n",
              "    </tr>\n",
              "    <tr>\n",
              "      <th>max</th>\n",
              "      <td>1.000000</td>\n",
              "      <td>1.000000</td>\n",
              "      <td>1.000000</td>\n",
              "      <td>1.000000</td>\n",
              "      <td>1.000000</td>\n",
              "      <td>1.000000</td>\n",
              "      <td>1.000000</td>\n",
              "      <td>1.000000e+00</td>\n",
              "      <td>1.000000</td>\n",
              "      <td>1.000000</td>\n",
              "      <td>1.000000</td>\n",
              "      <td>1.000000</td>\n",
              "      <td>1.000000</td>\n",
              "      <td>1.000000</td>\n",
              "      <td>1.000000</td>\n",
              "      <td>1.000000</td>\n",
              "      <td>1.000000</td>\n",
              "      <td>1.000000</td>\n",
              "      <td>1.000000e+00</td>\n",
              "      <td>1.000000</td>\n",
              "      <td>1.000000</td>\n",
              "      <td>1.000000</td>\n",
              "      <td>1.000000e+00</td>\n",
              "      <td>1.000000e+00</td>\n",
              "      <td>1.000000e+00</td>\n",
              "      <td>1.000000</td>\n",
              "      <td>1.000000</td>\n",
              "      <td>1.000000e+00</td>\n",
              "      <td>1.000000</td>\n",
              "      <td>1.000000</td>\n",
              "      <td>1.000000</td>\n",
              "      <td>1.000000</td>\n",
              "      <td>1.000000</td>\n",
              "      <td>1.000000</td>\n",
              "      <td>1.000000</td>\n",
              "      <td>1.000000</td>\n",
              "      <td>1.000000</td>\n",
              "      <td>1.000000</td>\n",
              "      <td>1.000000</td>\n",
              "      <td>1.000000</td>\n",
              "      <td>...</td>\n",
              "      <td>1.000000</td>\n",
              "      <td>1.00000</td>\n",
              "      <td>1.000000</td>\n",
              "      <td>1.000000</td>\n",
              "      <td>1.000000</td>\n",
              "      <td>1.000000</td>\n",
              "      <td>1.000000</td>\n",
              "      <td>1.000000</td>\n",
              "      <td>1.000000</td>\n",
              "      <td>1.000000</td>\n",
              "      <td>1.000000</td>\n",
              "      <td>1.000000</td>\n",
              "      <td>1.000000</td>\n",
              "      <td>1.000000</td>\n",
              "      <td>1.000000</td>\n",
              "      <td>1.000000</td>\n",
              "      <td>1.000000</td>\n",
              "      <td>1.000000</td>\n",
              "      <td>1.000000</td>\n",
              "      <td>1.000000</td>\n",
              "      <td>1.000000</td>\n",
              "      <td>1.000000</td>\n",
              "      <td>1.000000</td>\n",
              "      <td>1.000000</td>\n",
              "      <td>1.000000</td>\n",
              "      <td>1.000000</td>\n",
              "      <td>1.000000</td>\n",
              "      <td>1.00000</td>\n",
              "      <td>1.000000</td>\n",
              "      <td>1.000000</td>\n",
              "      <td>1.000000</td>\n",
              "      <td>1.000000</td>\n",
              "      <td>1.000000</td>\n",
              "      <td>1.000000</td>\n",
              "      <td>1.000000</td>\n",
              "      <td>1.000000</td>\n",
              "      <td>1.000000</td>\n",
              "      <td>1.000000</td>\n",
              "      <td>1.000000</td>\n",
              "      <td>1.000000</td>\n",
              "    </tr>\n",
              "  </tbody>\n",
              "</table>\n",
              "<p>8 rows × 245 columns</p>\n",
              "</div>"
            ],
            "text/plain": [
              "                UF_1           UF_2  ...    IND_BOM_1_1    IND_BOM_1_2\n",
              "count  389196.000000  389196.000000  ...  389196.000000  389196.000000\n",
              "mean        0.889274       0.691952  ...       0.655449       0.344551\n",
              "std         0.313793       0.461687  ...       0.475222       0.475222\n",
              "min         0.000000       0.000000  ...       0.000000       0.000000\n",
              "25%         1.000000       0.000000  ...       0.000000       0.000000\n",
              "50%         1.000000       1.000000  ...       1.000000       0.000000\n",
              "75%         1.000000       1.000000  ...       1.000000       1.000000\n",
              "max         1.000000       1.000000  ...       1.000000       1.000000\n",
              "\n",
              "[8 rows x 245 columns]"
            ]
          },
          "metadata": {},
          "execution_count": 8
        }
      ]
    },
    {
      "cell_type": "code",
      "metadata": {
        "id": "zeIPTBgocmXM",
        "colab": {
          "base_uri": "https://localhost:8080/"
        },
        "outputId": "77ab5617-6280-4857-f8c3-0c46ca64f108"
      },
      "source": [
        "print(\"Separando classes...\")\n",
        "class_1 = dataset[dataset['IND_BOM_1_1']==1]\n",
        "class_2 = dataset[dataset['IND_BOM_1_2']==1]\n",
        "class_1 = class_1.sample(frac=1)\n",
        "class_2 = class_2.sample(frac=1)"
      ],
      "execution_count": 9,
      "outputs": [
        {
          "output_type": "stream",
          "name": "stdout",
          "text": [
            "Separando classes...\n"
          ]
        }
      ]
    },
    {
      "cell_type": "code",
      "metadata": {
        "colab": {
          "base_uri": "https://localhost:8080/"
        },
        "id": "hScVTZx_is-u",
        "outputId": "0837c273-cf4b-46a4-83b3-4c8b75473b04"
      },
      "source": [
        "print(\"Dividindo dados em treinamento, validação e teste\")\n",
        "class_1_train, class_1_validate, class_1_test = np.split(class_1,[int(0.5*len(class_1)),int(0.75*len(class_1))])\n",
        "class_2_train, class_2_validate, class_2_test = np.split(class_2,[int(0.5*len(class_2)),int(0.75*len(class_2))])  "
      ],
      "execution_count": 10,
      "outputs": [
        {
          "output_type": "stream",
          "name": "stdout",
          "text": [
            "Dividindo dados em treinamento, validação e teste\n"
          ]
        }
      ]
    },
    {
      "cell_type": "code",
      "metadata": {
        "colab": {
          "base_uri": "https://localhost:8080/"
        },
        "id": "cY-n25H0ivRd",
        "outputId": "5e977763-826a-48ad-fabb-db2f72c29a9c"
      },
      "source": [
        "print(\"Classe 1 - \",\"Treino:\",len(class_1_train),\"Validação:\",len(class_1_validate),\"Teste:\",len(class_1_test))\n",
        "print(\"Classe 2 - \",\"Treino:\",len(class_2_train),\"Validação:\",len(class_2_validate),\"Teste:\",len(class_2_test))"
      ],
      "execution_count": 11,
      "outputs": [
        {
          "output_type": "stream",
          "name": "stdout",
          "text": [
            "Classe 1 -  Treino: 127549 Validação: 63774 Teste: 63775\n",
            "Classe 2 -  Treino: 67049 Validação: 33524 Teste: 33525\n"
          ]
        }
      ]
    },
    {
      "cell_type": "code",
      "metadata": {
        "colab": {
          "base_uri": "https://localhost:8080/"
        },
        "id": "AmE6bdJyixb0",
        "outputId": "7e459056-86a2-47d1-e51a-ac1566ca5879"
      },
      "source": [
        "print(\"Repetindo dados de treino e validação da classe 2\")\n",
        "while len(class_2_train) < len(class_1_train):\n",
        "  count = (len(class_1_train)-len(class_2_train)) % len(class_2_train)\n",
        "  class_2_train = pd.concat([class_2_train[:count],class_2_train])\n",
        "while len(class_2_validate) < len(class_1_validate):\n",
        "  count = (len(class_1_validate)-len(class_2_validate)) % len(class_2_validate)\n",
        "  class_2_validate = pd.concat([class_2_validate[:count],class_2_validate])\n"
      ],
      "execution_count": 12,
      "outputs": [
        {
          "output_type": "stream",
          "name": "stdout",
          "text": [
            "Repetindo dados de treino e validação da classe 2\n"
          ]
        }
      ]
    },
    {
      "cell_type": "code",
      "metadata": {
        "colab": {
          "base_uri": "https://localhost:8080/"
        },
        "id": "7iq7ePOoi2Ab",
        "outputId": "a5ef020a-1812-462d-eb6e-f575d3a27462"
      },
      "source": [
        "print(\"Classe 1 - \",\"Treino:\",len(class_1_train),\"Validação:\",len(class_1_validate),\"Teste:\",len(class_1_test))\n",
        "print(\"Classe 2 - \",\"Treino:\",len(class_2_train),\"Validação:\",len(class_2_validate),\"Teste:\",len(class_2_test))"
      ],
      "execution_count": 13,
      "outputs": [
        {
          "output_type": "stream",
          "name": "stdout",
          "text": [
            "Classe 1 -  Treino: 127549 Validação: 63774 Teste: 63775\n",
            "Classe 2 -  Treino: 127549 Validação: 63774 Teste: 33525\n"
          ]
        }
      ]
    },
    {
      "cell_type": "code",
      "metadata": {
        "colab": {
          "base_uri": "https://localhost:8080/"
        },
        "id": "1v9YdXozi53b",
        "outputId": "7c0f251d-f29f-415b-9ea8-8646fe976d04"
      },
      "source": [
        "print(\"Juntandos dados das classes de acordo com o tipo de separação\")\n",
        "data_train = pd.concat([class_1_train,class_2_train])\n",
        "data_train = data_train.sample(frac=1)\n",
        "data_validate = pd.concat([class_1_validate,class_2_validate])\n",
        "data_validate = data_validate.sample(frac=1)\n",
        "data_test = pd.concat([class_1_test,class_2_test])\n",
        "data_test = data_test.sample(frac=1)"
      ],
      "execution_count": 14,
      "outputs": [
        {
          "output_type": "stream",
          "name": "stdout",
          "text": [
            "Juntandos dados das classes de acordo com o tipo de separação\n"
          ]
        }
      ]
    },
    {
      "cell_type": "code",
      "metadata": {
        "colab": {
          "base_uri": "https://localhost:8080/"
        },
        "id": "tUYmo3cqi8Fs",
        "outputId": "40ccbf42-3eec-4869-fb15-3a727ec4db37"
      },
      "source": [
        "print(\"Treinamento:\",len(data_train),\"Validação:\",len(data_validate),\"Teste:\",len(data_test))"
      ],
      "execution_count": 15,
      "outputs": [
        {
          "output_type": "stream",
          "name": "stdout",
          "text": [
            "Treinamento: 255098 Validação: 127548 Teste: 97300\n"
          ]
        }
      ]
    },
    {
      "cell_type": "code",
      "metadata": {
        "id": "AHNrho7w50tb",
        "colab": {
          "base_uri": "https://localhost:8080/"
        },
        "outputId": "3b29253d-c83a-4220-ea27-694a5813f13c"
      },
      "source": [
        "print(data_train.iloc[0])"
      ],
      "execution_count": 16,
      "outputs": [
        {
          "output_type": "stream",
          "name": "stdout",
          "text": [
            "UF_1           1.0\n",
            "UF_2           1.0\n",
            "UF_3           0.0\n",
            "UF_4           1.0\n",
            "UF_5           0.0\n",
            "              ... \n",
            "CEP4_12        0.0\n",
            "CEP4_13        0.0\n",
            "CEP4_14        0.0\n",
            "IND_BOM_1_1    1.0\n",
            "IND_BOM_1_2    0.0\n",
            "Name: 360640, Length: 245, dtype: float64\n"
          ]
        }
      ]
    },
    {
      "cell_type": "code",
      "metadata": {
        "id": "gXHPfj0DaKWS"
      },
      "source": [
        "x_train = data_train.iloc[:,:-2]\n",
        "y_train = data_train.iloc[:,-2:]\n",
        "x_validate = data_validate.iloc[:,:-2]\n",
        "y_validate = data_validate.iloc[:,-2:]\n",
        "x_test = data_test.iloc[:,:-2]\n",
        "y_test = data_test.iloc[:,-2:]"
      ],
      "execution_count": 17,
      "outputs": []
    },
    {
      "cell_type": "markdown",
      "metadata": {
        "id": "Jh3FxY_8y1NP"
      },
      "source": [
        "#Classificadores"
      ]
    },
    {
      "cell_type": "code",
      "metadata": {
        "id": "MjmzKEv3N9Pd",
        "colab": {
          "base_uri": "https://localhost:8080/"
        },
        "outputId": "b037e01f-0866-4eb7-ca09-e2fd00b45b48"
      },
      "source": [
        "! pip install scikit-plot\n",
        "from sklearn.metrics import confusion_matrix\n",
        "from sklearn.metrics import classification_report\n",
        "from sklearn.metrics import mean_squared_error\n",
        "from sklearn.metrics import roc_curve,roc_auc_score,average_precision_score\n",
        "import scikitplot as skplt\n",
        "import matplotlib.pyplot as plt"
      ],
      "execution_count": 18,
      "outputs": [
        {
          "output_type": "stream",
          "name": "stdout",
          "text": [
            "Requirement already satisfied: scikit-plot in /usr/local/lib/python3.7/dist-packages (0.3.7)\n",
            "Requirement already satisfied: joblib>=0.10 in /usr/local/lib/python3.7/dist-packages (from scikit-plot) (1.1.0)\n",
            "Requirement already satisfied: scipy>=0.9 in /usr/local/lib/python3.7/dist-packages (from scikit-plot) (1.4.1)\n",
            "Requirement already satisfied: matplotlib>=1.4.0 in /usr/local/lib/python3.7/dist-packages (from scikit-plot) (3.2.2)\n",
            "Requirement already satisfied: scikit-learn>=0.18 in /usr/local/lib/python3.7/dist-packages (from scikit-plot) (1.0.1)\n",
            "Requirement already satisfied: cycler>=0.10 in /usr/local/lib/python3.7/dist-packages (from matplotlib>=1.4.0->scikit-plot) (0.11.0)\n",
            "Requirement already satisfied: numpy>=1.11 in /usr/local/lib/python3.7/dist-packages (from matplotlib>=1.4.0->scikit-plot) (1.19.5)\n",
            "Requirement already satisfied: kiwisolver>=1.0.1 in /usr/local/lib/python3.7/dist-packages (from matplotlib>=1.4.0->scikit-plot) (1.3.2)\n",
            "Requirement already satisfied: python-dateutil>=2.1 in /usr/local/lib/python3.7/dist-packages (from matplotlib>=1.4.0->scikit-plot) (2.8.2)\n",
            "Requirement already satisfied: pyparsing!=2.0.4,!=2.1.2,!=2.1.6,>=2.0.1 in /usr/local/lib/python3.7/dist-packages (from matplotlib>=1.4.0->scikit-plot) (3.0.6)\n",
            "Requirement already satisfied: six>=1.5 in /usr/local/lib/python3.7/dist-packages (from python-dateutil>=2.1->matplotlib>=1.4.0->scikit-plot) (1.15.0)\n",
            "Requirement already satisfied: threadpoolctl>=2.0.0 in /usr/local/lib/python3.7/dist-packages (from scikit-learn>=0.18->scikit-plot) (3.0.0)\n"
          ]
        }
      ]
    },
    {
      "cell_type": "code",
      "metadata": {
        "id": "XqqbcUeYd_tP"
      },
      "source": [
        "def my_metrics(y_true,y_pred):\n",
        "  y_true = y_true['IND_BOM_1_1']\n",
        "  y_pred = y_pred['IND_BOM_1_1']\n",
        "  skplt.metrics.plot_confusion_matrix(y_true, y_pred,normalize=True)\n",
        "  plt.show()\n",
        "  print()\n",
        "  print(classification_report(y_true,y_pred))\n",
        "  print(\"Erro quadrático médio: \",mean_squared_error(y_true,y_pred))\n",
        "  print(\"Auroc:\", roc_auc_score(y_true,y_pred))\n",
        "  print(\"Precisão média: \", average_precision_score(y_true, y_pred))\n",
        "  print()\n",
        "  "
      ],
      "execution_count": 19,
      "outputs": []
    },
    {
      "cell_type": "code",
      "metadata": {
        "id": "6KGZttirt0eP"
      },
      "source": [
        "def pred_name_columns(arr):\n",
        "    result = pd.DataFrame(arr, columns = ['IND_BOM_1_1','IND_BOM_1_2'])\n",
        "    return result"
      ],
      "execution_count": 20,
      "outputs": []
    },
    {
      "cell_type": "code",
      "metadata": {
        "id": "EIeExIjVwiWP"
      },
      "source": [
        "def pred_scores_transf(arr):\n",
        "  pred_score = []\n",
        "  for a,b in arr:\n",
        "    if a > b:\n",
        "      pred_score.append([1,0])\n",
        "    else:\n",
        "      pred_score.append([0,1])\n",
        "  \n",
        "  return pred_name_columns(pred_score)"
      ],
      "execution_count": 21,
      "outputs": []
    },
    {
      "cell_type": "markdown",
      "metadata": {
        "id": "uM0lMORWy8lv"
      },
      "source": [
        "\n",
        "##MLP"
      ]
    },
    {
      "cell_type": "code",
      "metadata": {
        "id": "URQiIPJRy-Vo"
      },
      "source": [
        "from keras.models import Sequential\n",
        "from keras.layers import Dense\n",
        "from keras.callbacks import EarlyStopping\n",
        "from tensorflow.keras import layers"
      ],
      "execution_count": 22,
      "outputs": []
    },
    {
      "cell_type": "code",
      "metadata": {
        "id": "WGB-OAOTllAB"
      },
      "source": [
        "input_dim = x_train.shape[1]"
      ],
      "execution_count": 23,
      "outputs": []
    },
    {
      "cell_type": "code",
      "metadata": {
        "id": "BDg1DMPOlo6n"
      },
      "source": [
        "mlp_classifier = Sequential()\n",
        "mlp_classifier.add(Dense(245, activation=layers.ReLU(), input_dim=input_dim))\n",
        "mlp_classifier.add(Dense(2, activation='sigmoid'))\n",
        "mlp_classifier.compile(optimizer='adam', loss='mean_squared_error')"
      ],
      "execution_count": 24,
      "outputs": []
    },
    {
      "cell_type": "code",
      "metadata": {
        "id": "rzTNGQgQmBnI",
        "colab": {
          "base_uri": "https://localhost:8080/"
        },
        "outputId": "c7f7e6a5-24ac-4a6f-a201-f6c63eabe421"
      },
      "source": [
        "mlp_history = mlp_classifier.fit(x_train, y_train, batch_size=64, epochs=10000, \n",
        "                         callbacks=[EarlyStopping(patience=10)], validation_data=(x_validate, y_validate))"
      ],
      "execution_count": 59,
      "outputs": [
        {
          "output_type": "stream",
          "name": "stdout",
          "text": [
            "Epoch 1/10000\n",
            "3986/3986 [==============================] - 12s 3ms/step - loss: 0.2009 - val_loss: 0.2334\n",
            "Epoch 2/10000\n",
            "3986/3986 [==============================] - 12s 3ms/step - loss: 0.1994 - val_loss: 0.2344\n",
            "Epoch 3/10000\n",
            "3986/3986 [==============================] - 12s 3ms/step - loss: 0.1979 - val_loss: 0.2356\n",
            "Epoch 4/10000\n",
            "3986/3986 [==============================] - 12s 3ms/step - loss: 0.1964 - val_loss: 0.2381\n",
            "Epoch 5/10000\n",
            "3986/3986 [==============================] - 12s 3ms/step - loss: 0.1951 - val_loss: 0.2388\n",
            "Epoch 6/10000\n",
            "3986/3986 [==============================] - 12s 3ms/step - loss: 0.1937 - val_loss: 0.2393\n",
            "Epoch 7/10000\n",
            "3986/3986 [==============================] - 12s 3ms/step - loss: 0.1925 - val_loss: 0.2404\n",
            "Epoch 8/10000\n",
            "3986/3986 [==============================] - 14s 4ms/step - loss: 0.1912 - val_loss: 0.2433\n",
            "Epoch 9/10000\n",
            "3986/3986 [==============================] - 11s 3ms/step - loss: 0.1897 - val_loss: 0.2437\n",
            "Epoch 10/10000\n",
            "3986/3986 [==============================] - 12s 3ms/step - loss: 0.1889 - val_loss: 0.2449\n",
            "Epoch 11/10000\n",
            "3986/3986 [==============================] - 12s 3ms/step - loss: 0.1878 - val_loss: 0.2474\n"
          ]
        }
      ]
    },
    {
      "cell_type": "code",
      "metadata": {
        "id": "KQgC9K_mn9N7"
      },
      "source": [
        "mlp_y_pred_scores = mlp_classifier.predict(x_test)"
      ],
      "execution_count": 60,
      "outputs": []
    },
    {
      "cell_type": "code",
      "metadata": {
        "id": "7ZCJiOfTwIS3"
      },
      "source": [
        "y_pred_mlp = pred_scores_transf(mlp_y_pred_scores)"
      ],
      "execution_count": 61,
      "outputs": []
    },
    {
      "cell_type": "code",
      "metadata": {
        "colab": {
          "base_uri": "https://localhost:8080/",
          "height": 538
        },
        "id": "C9F2pHGR_-XI",
        "outputId": "11a0ea9c-a7b4-401f-cf74-6c5ef8a50563"
      },
      "source": [
        "my_metrics(y_test,y_pred_mlp)"
      ],
      "execution_count": 64,
      "outputs": [
        {
          "output_type": "display_data",
          "data": {
            "image/png": "[encoded data removed]",
            "text/plain": [
              "<Figure size 432x288 with 2 Axes>"
            ]
          },
          "metadata": {
            "needs_background": "light"
          }
        },
        {
          "output_type": "stream",
          "name": "stdout",
          "text": [
            "\n",
            "              precision    recall  f1-score   support\n",
            "\n",
            "           0       0.47      0.55      0.51     33525\n",
            "           1       0.74      0.68      0.71     63775\n",
            "\n",
            "    accuracy                           0.63     97300\n",
            "   macro avg       0.61      0.62      0.61     97300\n",
            "weighted avg       0.65      0.63      0.64     97300\n",
            "\n",
            "Erro quadrático médio:  0.3656731757451182\n",
            "Auroc: 0.6153976844044431\n",
            "Precisão média:  0.7145144993719219\n",
            "\n"
          ]
        }
      ]
    },
    {
      "cell_type": "markdown",
      "metadata": {
        "id": "0_vJ1ReU2IkL"
      },
      "source": [
        "##Random Forest"
      ]
    },
    {
      "cell_type": "code",
      "metadata": {
        "id": "XH-7EWLZ2McW"
      },
      "source": [
        "from sklearn.ensemble import RandomForestClassifier"
      ],
      "execution_count": 23,
      "outputs": []
    },
    {
      "cell_type": "code",
      "metadata": {
        "id": "mAJa1cLZGBJ8"
      },
      "source": [
        "estimators = [50,100,128]\n",
        "maxDeep = [2,5,8]\n",
        "maxFeatures = [None, 'sqrt']"
      ],
      "execution_count": null,
      "outputs": []
    },
    {
      "cell_type": "code",
      "metadata": {
        "id": "xivZMOeTAxzb",
        "colab": {
          "base_uri": "https://localhost:8080/",
          "height": 1000
        },
        "outputId": "5dc66fd4-cde0-4655-eaf3-5ee651e4b8e3"
      },
      "source": [
        "for est in estimators:\n",
        "  for deep in maxDeep:\n",
        "    for feat in maxFeatures:\n",
        "      rf_classifier = RandomForestClassifier(n_estimators=est,max_depth=deep,min_samples_leaf=2,min_samples_split=4,max_features=feat)\n",
        "      print('params: estimadores {}, maxDepht {}, Features {}'.format(est,deep,feat))\n",
        "      rf_history = rf_classifier.fit(x_train, y_train)\n",
        "      \n",
        "      rf_pred_class_val = rf_classifier.predict(x_validate)\n",
        "      y_pred_rf_val = pred_name_columns(rf_pred_class_val)\n",
        "      my_metrics(y_validate,y_pred_rf_val)\n",
        "\n",
        "      #rf_prb_val = rf_classifer.predict_proba(x_validate)\n",
        "      # skplt.metrics.plot_ks_statistic(y_validate['IND_BOM_1_1'], rf_prb_val)\n",
        "      # plt.show()\n",
        "\n",
        "      rf_pred_class_test = rf_classifier.predict(x_test)\n",
        "      y_pred_rf_test = pred_name_columns(rf_pred_class_test)\n",
        "      my_metrics(y_test,y_pred_rf_test)\n",
        "\n",
        "      #rf_prb_tst = rf_classifer.predict_proba(x_test)\n",
        "      # skplt.metrics.plot_ks_statistic(y_test['IND_BOM_1_1'], rf_prb_tst)\n",
        "      # plt.show()"
      ],
      "execution_count": null,
      "outputs": [
        {
          "output_type": "stream",
          "name": "stdout",
          "text": [
            "params: estimadores 50, maxDepht 2, Features None\n",
            "Matriz confusão:\n",
            "[[43323 20451]\n",
            " [31698 32076]]\n",
            "\n"
          ]
        },
        {
          "output_type": "display_data",
          "data": {
            "image/png": "[encoded data removed]",
            "text/plain": [
              "<Figure size 432x288 with 2 Axes>"
            ]
          },
          "metadata": {
            "needs_background": "light"
          }
        },
        {
          "output_type": "stream",
          "name": "stdout",
          "text": [
            "              precision    recall  f1-score   support\n",
            "\n",
            "           0       0.58      0.68      0.62     63774\n",
            "           1       0.61      0.50      0.55     63774\n",
            "\n",
            "    accuracy                           0.59    127548\n",
            "   macro avg       0.59      0.59      0.59    127548\n",
            "weighted avg       0.59      0.59      0.59    127548\n",
            "\n",
            "\n",
            "Erro quadrático médio:  0.4088578417536927\n",
            "\n",
            "Auroc:\n",
            "(array([0.        , 0.32067927, 1.        ]), array([0.        , 0.50296359, 1.        ]), array([2, 1, 0]))\n",
            "Matriz confusão:\n",
            "[[23124 10401]\n",
            " [31660 32115]]\n",
            "\n"
          ]
        },
        {
          "output_type": "display_data",
          "data": {
            "image/png": "[encoded data removed]",
            "text/plain": [
              "<Figure size 432x288 with 2 Axes>"
            ]
          },
          "metadata": {
            "needs_background": "light"
          }
        },
        {
          "output_type": "stream",
          "name": "stdout",
          "text": [
            "              precision    recall  f1-score   support\n",
            "\n",
            "           0       0.42      0.69      0.52     33525\n",
            "           1       0.76      0.50      0.60     63775\n",
            "\n",
            "    accuracy                           0.57     97300\n",
            "   macro avg       0.59      0.60      0.56     97300\n",
            "weighted avg       0.64      0.57      0.58     97300\n",
            "\n",
            "\n",
            "Erro quadrático médio:  0.43228160328879756\n",
            "\n",
            "Auroc:\n",
            "(array([0.        , 0.31024609, 1.        ]), array([0.        , 0.50356723, 1.        ]), array([2, 1, 0]))\n",
            "params: estimadores 50, maxDepht 2, Features sqrt\n",
            "Matriz confusão:\n",
            "[[43620 20154]\n",
            " [31751 32023]]\n",
            "\n"
          ]
        },
        {
          "output_type": "display_data",
          "data": {
            "image/png": "[encoded data removed]",
            "text/plain": [
              "<Figure size 432x288 with 2 Axes>"
            ]
          },
          "metadata": {
            "needs_background": "light"
          }
        },
        {
          "output_type": "stream",
          "name": "stdout",
          "text": [
            "              precision    recall  f1-score   support\n",
            "\n",
            "           0       0.58      0.68      0.63     63774\n",
            "           1       0.61      0.50      0.55     63774\n",
            "\n",
            "    accuracy                           0.59    127548\n",
            "   macro avg       0.60      0.59      0.59    127548\n",
            "weighted avg       0.60      0.59      0.59    127548\n",
            "\n",
            "\n",
            "Erro quadrático médio:  0.4069448364537272\n",
            "\n",
            "Auroc:\n",
            "(array([0.       , 0.3160222, 1.       ]), array([0.        , 0.50213253, 1.        ]), array([2, 1, 0]))\n",
            "Matriz confusão:\n",
            "[[22985 10540]\n",
            " [31693 32082]]\n",
            "\n"
          ]
        },
        {
          "output_type": "display_data",
          "data": {
            "image/png": "[encoded data removed]",
            "text/plain": [
              "<Figure size 432x288 with 2 Axes>"
            ]
          },
          "metadata": {
            "needs_background": "light"
          }
        },
        {
          "output_type": "stream",
          "name": "stdout",
          "text": [
            "              precision    recall  f1-score   support\n",
            "\n",
            "           0       0.42      0.69      0.52     33525\n",
            "           1       0.75      0.50      0.60     63775\n",
            "\n",
            "    accuracy                           0.57     97300\n",
            "   macro avg       0.59      0.59      0.56     97300\n",
            "weighted avg       0.64      0.57      0.57     97300\n",
            "\n",
            "\n",
            "Erro quadrático médio:  0.43404933196300105\n",
            "\n",
            "Auroc:\n",
            "(array([0.        , 0.31439224, 1.        ]), array([0.        , 0.50304978, 1.        ]), array([2, 1, 0]))\n",
            "params: estimadores 50, maxDepht 5, Features None\n",
            "Matriz confusão:\n",
            "[[42960 20814]\n",
            " [27331 36443]]\n",
            "\n"
          ]
        },
        {
          "output_type": "display_data",
          "data": {
            "image/png": "[encoded data removed]",
            "text/plain": [
              "<Figure size 432x288 with 2 Axes>"
            ]
          },
          "metadata": {
            "needs_background": "light"
          }
        },
        {
          "output_type": "stream",
          "name": "stdout",
          "text": [
            "              precision    recall  f1-score   support\n",
            "\n",
            "           0       0.61      0.67      0.64     63774\n",
            "           1       0.64      0.57      0.60     63774\n",
            "\n",
            "    accuracy                           0.62    127548\n",
            "   macro avg       0.62      0.62      0.62    127548\n",
            "weighted avg       0.62      0.62      0.62    127548\n",
            "\n",
            "\n",
            "Erro quadrático médio:  0.377465738388685\n",
            "\n",
            "Auroc:\n",
            "(array([0.        , 0.32637125, 1.        ]), array([0.        , 0.57143977, 1.        ]), array([2, 1, 0]))\n",
            "Matriz confusão:\n",
            "[[22771 10754]\n",
            " [27055 36720]]\n",
            "\n"
          ]
        },
        {
          "output_type": "display_data",
          "data": {
            "image/png": "[encoded data removed]",
            "text/plain": [
              "<Figure size 432x288 with 2 Axes>"
            ]
          },
          "metadata": {
            "needs_background": "light"
          }
        },
        {
          "output_type": "stream",
          "name": "stdout",
          "text": [
            "              precision    recall  f1-score   support\n",
            "\n",
            "           0       0.46      0.68      0.55     33525\n",
            "           1       0.77      0.58      0.66     63775\n",
            "\n",
            "    accuracy                           0.61     97300\n",
            "   macro avg       0.62      0.63      0.60     97300\n",
            "weighted avg       0.66      0.61      0.62     97300\n",
            "\n",
            "\n",
            "Erro quadrático médio:  0.38858170606372044\n",
            "\n",
            "Auroc:\n",
            "(array([0.        , 0.32077554, 1.        ]), array([0.        , 0.57577421, 1.        ]), array([2, 1, 0]))\n",
            "params: estimadores 50, maxDepht 5, Features sqrt\n",
            "Matriz confusão:\n",
            "[[43897 19877]\n",
            " [28719 35055]]\n",
            "\n"
          ]
        },
        {
          "output_type": "display_data",
          "data": {
            "image/png": "[encoded data removed]",
            "text/plain": [
              "<Figure size 432x288 with 2 Axes>"
            ]
          },
          "metadata": {
            "needs_background": "light"
          }
        },
        {
          "output_type": "stream",
          "name": "stdout",
          "text": [
            "              precision    recall  f1-score   support\n",
            "\n",
            "           0       0.60      0.69      0.64     63774\n",
            "           1       0.64      0.55      0.59     63774\n",
            "\n",
            "    accuracy                           0.62    127548\n",
            "   macro avg       0.62      0.62      0.62    127548\n",
            "weighted avg       0.62      0.62      0.62    127548\n",
            "\n",
            "\n",
            "Erro quadrático médio:  0.381001662119359\n",
            "\n",
            "Auroc:\n",
            "(array([0.        , 0.31167874, 1.        ]), array([0.        , 0.54967542, 1.        ]), array([2, 1, 0]))\n",
            "Matriz confusão:\n",
            "[[23181 10344]\n",
            " [28560 35215]]\n",
            "\n"
          ]
        },
        {
          "output_type": "display_data",
          "data": {
            "image/png": "[encoded data removed]",
            "text/plain": [
              "<Figure size 432x288 with 2 Axes>"
            ]
          },
          "metadata": {
            "needs_background": "light"
          }
        },
        {
          "output_type": "stream",
          "name": "stdout",
          "text": [
            "              precision    recall  f1-score   support\n",
            "\n",
            "           0       0.45      0.69      0.54     33525\n",
            "           1       0.77      0.55      0.64     63775\n",
            "\n",
            "    accuracy                           0.60     97300\n",
            "   macro avg       0.61      0.62      0.59     97300\n",
            "weighted avg       0.66      0.60      0.61     97300\n",
            "\n",
            "\n",
            "Erro quadrático médio:  0.3998355601233299\n",
            "\n",
            "Auroc:\n",
            "(array([0.        , 0.30854586, 1.        ]), array([0.        , 0.55217562, 1.        ]), array([2, 1, 0]))\n",
            "params: estimadores 50, maxDepht 8, Features None\n",
            "Matriz confusão:\n",
            "[[42420 21354]\n",
            " [25071 38703]]\n",
            "\n"
          ]
        },
        {
          "output_type": "display_data",
          "data": {
            "image/png": "[encoded data removed]",
            "text/plain": [
              "<Figure size 432x288 with 2 Axes>"
            ]
          },
          "metadata": {
            "needs_background": "light"
          }
        },
        {
          "output_type": "stream",
          "name": "stdout",
          "text": [
            "              precision    recall  f1-score   support\n",
            "\n",
            "           0       0.63      0.67      0.65     63774\n",
            "           1       0.64      0.61      0.63     63774\n",
            "\n",
            "    accuracy                           0.64    127548\n",
            "   macro avg       0.64      0.64      0.64    127548\n",
            "weighted avg       0.64      0.64      0.64    127548\n",
            "\n",
            "\n",
            "Erro quadrático médio:  0.3639806190610594\n",
            "\n",
            "Auroc:\n",
            "(array([0.        , 0.33483865, 1.        ]), array([0.        , 0.60687741, 1.        ]), array([2, 1, 0]))\n",
            "Matriz confusão:\n",
            "[[22583 10942]\n",
            " [25009 38766]]\n",
            "\n"
          ]
        },
        {
          "output_type": "display_data",
          "data": {
            "image/png": "[encoded data removed]",
            "text/plain": [
              "<Figure size 432x288 with 2 Axes>"
            ]
          },
          "metadata": {
            "needs_background": "light"
          }
        },
        {
          "output_type": "stream",
          "name": "stdout",
          "text": [
            "              precision    recall  f1-score   support\n",
            "\n",
            "           0       0.47      0.67      0.56     33525\n",
            "           1       0.78      0.61      0.68     63775\n",
            "\n",
            "    accuracy                           0.63     97300\n",
            "   macro avg       0.63      0.64      0.62     97300\n",
            "weighted avg       0.67      0.63      0.64     97300\n",
            "\n",
            "\n",
            "Erro quadrático médio:  0.369486125385406\n",
            "\n",
            "Auroc:\n",
            "(array([0.       , 0.3263833, 1.       ]), array([0.        , 0.60785574, 1.        ]), array([2, 1, 0]))\n",
            "params: estimadores 50, maxDepht 8, Features sqrt\n",
            "Matriz confusão:\n",
            "[[43912 19862]\n",
            " [27353 36421]]\n",
            "\n"
          ]
        },
        {
          "output_type": "display_data",
          "data": {
            "image/png": "[encoded data removed]",
            "text/plain": [
              "<Figure size 432x288 with 2 Axes>"
            ]
          },
          "metadata": {
            "needs_background": "light"
          }
        },
        {
          "output_type": "stream",
          "name": "stdout",
          "text": [
            "              precision    recall  f1-score   support\n",
            "\n",
            "           0       0.62      0.69      0.65     63774\n",
            "           1       0.65      0.57      0.61     63774\n",
            "\n",
            "    accuracy                           0.63    127548\n",
            "   macro avg       0.63      0.63      0.63    127548\n",
            "weighted avg       0.63      0.63      0.63    127548\n",
            "\n",
            "\n",
            "Erro quadrático médio:  0.37017436572898044\n",
            "\n",
            "Auroc:\n",
            "(array([0.        , 0.31144353, 1.        ]), array([0.       , 0.5710948, 1.       ]), array([2, 1, 0]))\n",
            "Matriz confusão:\n",
            "[[23240 10285]\n",
            " [27279 36496]]\n",
            "\n"
          ]
        },
        {
          "output_type": "display_data",
          "data": {
            "image/png": "[encoded data removed]",
            "text/plain": [
              "<Figure size 432x288 with 2 Axes>"
            ]
          },
          "metadata": {
            "needs_background": "light"
          }
        },
        {
          "output_type": "stream",
          "name": "stdout",
          "text": [
            "              precision    recall  f1-score   support\n",
            "\n",
            "           0       0.46      0.69      0.55     33525\n",
            "           1       0.78      0.57      0.66     63775\n",
            "\n",
            "    accuracy                           0.61     97300\n",
            "   macro avg       0.62      0.63      0.61     97300\n",
            "weighted avg       0.67      0.61      0.62     97300\n",
            "\n",
            "\n",
            "Erro quadrático médio:  0.38606372045220966\n",
            "\n",
            "Auroc:\n",
            "(array([0.        , 0.30678598, 1.        ]), array([0.        , 0.57226186, 1.        ]), array([2, 1, 0]))\n",
            "params: estimadores 100, maxDepht 2, Features None\n",
            "Matriz confusão:\n",
            "[[43323 20451]\n",
            " [31695 32079]]\n",
            "\n"
          ]
        },
        {
          "output_type": "display_data",
          "data": {
            "image/png": "[encoded data removed]",
            "text/plain": [
              "<Figure size 432x288 with 2 Axes>"
            ]
          },
          "metadata": {
            "needs_background": "light"
          }
        },
        {
          "output_type": "stream",
          "name": "stdout",
          "text": [
            "              precision    recall  f1-score   support\n",
            "\n",
            "           0       0.58      0.68      0.62     63774\n",
            "           1       0.61      0.50      0.55     63774\n",
            "\n",
            "    accuracy                           0.59    127548\n",
            "   macro avg       0.59      0.59      0.59    127548\n",
            "weighted avg       0.59      0.59      0.59    127548\n",
            "\n",
            "\n",
            "Erro quadrático médio:  0.4088343211967259\n",
            "\n",
            "Auroc:\n",
            "(array([0.        , 0.32067927, 1.        ]), array([0.        , 0.50301063, 1.        ]), array([2, 1, 0]))\n",
            "Matriz confusão:\n",
            "[[23122 10403]\n",
            " [31657 32118]]\n",
            "\n"
          ]
        },
        {
          "output_type": "display_data",
          "data": {
            "image/png": "[encoded data removed]",
            "text/plain": [
              "<Figure size 432x288 with 2 Axes>"
            ]
          },
          "metadata": {
            "needs_background": "light"
          }
        },
        {
          "output_type": "stream",
          "name": "stdout",
          "text": [
            "              precision    recall  f1-score   support\n",
            "\n",
            "           0       0.42      0.69      0.52     33525\n",
            "           1       0.76      0.50      0.60     63775\n",
            "\n",
            "    accuracy                           0.57     97300\n",
            "   macro avg       0.59      0.60      0.56     97300\n",
            "weighted avg       0.64      0.57      0.58     97300\n",
            "\n",
            "\n",
            "Erro quadrático médio:  0.4322713257965057\n",
            "\n",
            "Auroc:\n",
            "(array([0.        , 0.31030574, 1.        ]), array([0.        , 0.50361427, 1.        ]), array([2, 1, 0]))\n",
            "params: estimadores 100, maxDepht 2, Features sqrt\n",
            "Matriz confusão:\n",
            "[[42994 20780]\n",
            " [31417 32357]]\n",
            "\n"
          ]
        },
        {
          "output_type": "display_data",
          "data": {
            "image/png": "[encoded data removed]",
            "text/plain": [
              "<Figure size 432x288 with 2 Axes>"
            ]
          },
          "metadata": {
            "needs_background": "light"
          }
        },
        {
          "output_type": "stream",
          "name": "stdout",
          "text": [
            "              precision    recall  f1-score   support\n",
            "\n",
            "           0       0.58      0.67      0.62     63774\n",
            "           1       0.61      0.51      0.55     63774\n",
            "\n",
            "    accuracy                           0.59    127548\n",
            "   macro avg       0.59      0.59      0.59    127548\n",
            "weighted avg       0.59      0.59      0.59    127548\n",
            "\n",
            "\n",
            "Erro quadrático médio:  0.4092341706651614\n",
            "\n",
            "Auroc:\n",
            "(array([0.        , 0.32583812, 1.        ]), array([0.        , 0.50736977, 1.        ]), array([2, 1, 0]))\n",
            "Matriz confusão:\n",
            "[[22596 10929]\n",
            " [31327 32448]]\n",
            "\n"
          ]
        },
        {
          "output_type": "display_data",
          "data": {
            "image/png": "[encoded data removed]",
            "text/plain": [
              "<Figure size 432x288 with 2 Axes>"
            ]
          },
          "metadata": {
            "needs_background": "light"
          }
        },
        {
          "output_type": "stream",
          "name": "stdout",
          "text": [
            "              precision    recall  f1-score   support\n",
            "\n",
            "           0       0.42      0.67      0.52     33525\n",
            "           1       0.75      0.51      0.61     63775\n",
            "\n",
            "    accuracy                           0.57     97300\n",
            "   macro avg       0.58      0.59      0.56     97300\n",
            "weighted avg       0.63      0.57      0.58     97300\n",
            "\n",
            "\n",
            "Erro quadrático médio:  0.4342857142857143\n",
            "\n",
            "Auroc:\n",
            "(array([0.        , 0.32599553, 1.        ]), array([0.        , 0.50878871, 1.        ]), array([2, 1, 0]))\n",
            "params: estimadores 100, maxDepht 5, Features None\n",
            "Matriz confusão:\n",
            "[[43361 20413]\n",
            " [27630 36144]]\n",
            "\n"
          ]
        },
        {
          "output_type": "display_data",
          "data": {
            "image/png": "[encoded data removed]",
            "text/plain": [
              "<Figure size 432x288 with 2 Axes>"
            ]
          },
          "metadata": {
            "needs_background": "light"
          }
        },
        {
          "output_type": "stream",
          "name": "stdout",
          "text": [
            "              precision    recall  f1-score   support\n",
            "\n",
            "           0       0.61      0.68      0.64     63774\n",
            "           1       0.64      0.57      0.60     63774\n",
            "\n",
            "    accuracy                           0.62    127548\n",
            "   macro avg       0.62      0.62      0.62    127548\n",
            "weighted avg       0.62      0.62      0.62    127548\n",
            "\n",
            "\n",
            "Erro quadrático médio:  0.3766660394518142\n",
            "\n",
            "Auroc:\n",
            "(array([0.        , 0.32008342, 1.        ]), array([0.        , 0.56675134, 1.        ]), array([2, 1, 0]))\n",
            "Matriz confusão:\n",
            "[[22993 10532]\n",
            " [27354 36421]]\n",
            "\n"
          ]
        },
        {
          "output_type": "display_data",
          "data": {
            "image/png": "[encoded data removed]",
            "text/plain": [
              "<Figure size 432x288 with 2 Axes>"
            ]
          },
          "metadata": {
            "needs_background": "light"
          }
        },
        {
          "output_type": "stream",
          "name": "stdout",
          "text": [
            "              precision    recall  f1-score   support\n",
            "\n",
            "           0       0.46      0.69      0.55     33525\n",
            "           1       0.78      0.57      0.66     63775\n",
            "\n",
            "    accuracy                           0.61     97300\n",
            "   macro avg       0.62      0.63      0.60     97300\n",
            "weighted avg       0.67      0.61      0.62     97300\n",
            "\n",
            "\n",
            "Erro quadrático médio:  0.3893730729701953\n",
            "\n",
            "Auroc:\n",
            "(array([0.        , 0.31415362, 1.        ]), array([0.        , 0.57108585, 1.        ]), array([2, 1, 0]))\n",
            "params: estimadores 100, maxDepht 5, Features sqrt\n",
            "Matriz confusão:\n",
            "[[44323 19451]\n",
            " [29022 34752]]\n",
            "\n"
          ]
        },
        {
          "output_type": "display_data",
          "data": {
            "image/png": "[encoded data removed]",
            "text/plain": [
              "<Figure size 432x288 with 2 Axes>"
            ]
          },
          "metadata": {
            "needs_background": "light"
          }
        },
        {
          "output_type": "stream",
          "name": "stdout",
          "text": [
            "              precision    recall  f1-score   support\n",
            "\n",
            "           0       0.60      0.70      0.65     63774\n",
            "           1       0.64      0.54      0.59     63774\n",
            "\n",
            "    accuracy                           0.62    127548\n",
            "   macro avg       0.62      0.62      0.62    127548\n",
            "weighted avg       0.62      0.62      0.62    127548\n",
            "\n",
            "\n",
            "Erro quadrático médio:  0.38003731928372064\n",
            "\n",
            "Auroc:\n",
            "(array([0.       , 0.3049989, 1.       ]), array([0.        , 0.54492426, 1.        ]), array([2, 1, 0]))\n",
            "Matriz confusão:\n",
            "[[23501 10024]\n",
            " [28904 34871]]\n",
            "\n"
          ]
        },
        {
          "output_type": "display_data",
          "data": {
            "image/png": "[encoded data removed]",
            "text/plain": [
              "<Figure size 432x288 with 2 Axes>"
            ]
          },
          "metadata": {
            "needs_background": "light"
          }
        },
        {
          "output_type": "stream",
          "name": "stdout",
          "text": [
            "              precision    recall  f1-score   support\n",
            "\n",
            "           0       0.45      0.70      0.55     33525\n",
            "           1       0.78      0.55      0.64     63775\n",
            "\n",
            "    accuracy                           0.60     97300\n",
            "   macro avg       0.61      0.62      0.59     97300\n",
            "weighted avg       0.66      0.60      0.61     97300\n",
            "\n",
            "\n",
            "Erro quadrático médio:  0.40008221993833504\n",
            "\n",
            "Auroc:\n",
            "(array([0.        , 0.29900075, 1.        ]), array([0.        , 0.54678165, 1.        ]), array([2, 1, 0]))\n",
            "params: estimadores 100, maxDepht 8, Features None\n",
            "Matriz confusão:\n",
            "[[42497 21277]\n",
            " [24971 38803]]\n",
            "\n"
          ]
        },
        {
          "output_type": "display_data",
          "data": {
            "image/png": "[encoded data removed]",
            "text/plain": [
              "<Figure size 432x288 with 2 Axes>"
            ]
          },
          "metadata": {
            "needs_background": "light"
          }
        },
        {
          "output_type": "stream",
          "name": "stdout",
          "text": [
            "              precision    recall  f1-score   support\n",
            "\n",
            "           0       0.63      0.67      0.65     63774\n",
            "           1       0.65      0.61      0.63     63774\n",
            "\n",
            "    accuracy                           0.64    127548\n",
            "   macro avg       0.64      0.64      0.64    127548\n",
            "weighted avg       0.64      0.64      0.64    127548\n",
            "\n",
            "\n",
            "Erro quadrático médio:  0.3625929062000188\n",
            "\n",
            "Auroc:\n",
            "(array([0.        , 0.33363126, 1.        ]), array([0.        , 0.60844545, 1.        ]), array([2, 1, 0]))\n",
            "Matriz confusão:\n",
            "[[22627 10898]\n",
            " [24830 38945]]\n",
            "\n"
          ]
        },
        {
          "output_type": "display_data",
          "data": {
            "image/png": "[encoded data removed]",
            "text/plain": [
              "<Figure size 432x288 with 2 Axes>"
            ]
          },
          "metadata": {
            "needs_background": "light"
          }
        },
        {
          "output_type": "stream",
          "name": "stdout",
          "text": [
            "              precision    recall  f1-score   support\n",
            "\n",
            "           0       0.48      0.67      0.56     33525\n",
            "           1       0.78      0.61      0.69     63775\n",
            "\n",
            "    accuracy                           0.63     97300\n",
            "   macro avg       0.63      0.64      0.62     97300\n",
            "weighted avg       0.68      0.63      0.64     97300\n",
            "\n",
            "\n",
            "Erro quadrático médio:  0.36719424460431654\n",
            "\n",
            "Auroc:\n",
            "(array([0.        , 0.32507084, 1.        ]), array([0.        , 0.61066249, 1.        ]), array([2, 1, 0]))\n",
            "params: estimadores 100, maxDepht 8, Features sqrt\n",
            "Matriz confusão:\n",
            "[[44148 19626]\n",
            " [27412 36362]]\n",
            "\n"
          ]
        },
        {
          "output_type": "display_data",
          "data": {
            "image/png": "[encoded data removed]",
            "text/plain": [
              "<Figure size 432x288 with 2 Axes>"
            ]
          },
          "metadata": {
            "needs_background": "light"
          }
        },
        {
          "output_type": "stream",
          "name": "stdout",
          "text": [
            "              precision    recall  f1-score   support\n",
            "\n",
            "           0       0.62      0.69      0.65     63774\n",
            "           1       0.65      0.57      0.61     63774\n",
            "\n",
            "    accuracy                           0.63    127548\n",
            "   macro avg       0.63      0.63      0.63    127548\n",
            "weighted avg       0.63      0.63      0.63    127548\n",
            "\n",
            "\n",
            "Erro quadrático médio:  0.36878665286793993\n",
            "\n",
            "Auroc:\n",
            "(array([0.        , 0.30774297, 1.        ]), array([0.        , 0.57016966, 1.        ]), array([2, 1, 0]))\n",
            "Matriz confusão:\n",
            "[[23410 10115]\n",
            " [27245 36530]]\n",
            "\n"
          ]
        },
        {
          "output_type": "display_data",
          "data": {
            "image/png": "[encoded data removed]",
            "text/plain": [
              "<Figure size 432x288 with 2 Axes>"
            ]
          },
          "metadata": {
            "needs_background": "light"
          }
        },
        {
          "output_type": "stream",
          "name": "stdout",
          "text": [
            "              precision    recall  f1-score   support\n",
            "\n",
            "           0       0.46      0.70      0.56     33525\n",
            "           1       0.78      0.57      0.66     63775\n",
            "\n",
            "    accuracy                           0.62     97300\n",
            "   macro avg       0.62      0.64      0.61     97300\n",
            "weighted avg       0.67      0.62      0.63     97300\n",
            "\n",
            "\n",
            "Erro quadrático médio:  0.383967112024666\n",
            "\n",
            "Auroc:\n",
            "(array([0.        , 0.30171514, 1.        ]), array([0.        , 0.57279498, 1.        ]), array([2, 1, 0]))\n",
            "params: estimadores 128, maxDepht 2, Features None\n",
            "Matriz confusão:\n",
            "[[43323 20451]\n",
            " [31695 32079]]\n",
            "\n"
          ]
        },
        {
          "output_type": "display_data",
          "data": {
            "image/png": "[encoded data removed]",
            "text/plain": [
              "<Figure size 432x288 with 2 Axes>"
            ]
          },
          "metadata": {
            "needs_background": "light"
          }
        },
        {
          "output_type": "stream",
          "name": "stdout",
          "text": [
            "              precision    recall  f1-score   support\n",
            "\n",
            "           0       0.58      0.68      0.62     63774\n",
            "           1       0.61      0.50      0.55     63774\n",
            "\n",
            "    accuracy                           0.59    127548\n",
            "   macro avg       0.59      0.59      0.59    127548\n",
            "weighted avg       0.59      0.59      0.59    127548\n",
            "\n",
            "\n",
            "Erro quadrático médio:  0.4088343211967259\n",
            "\n",
            "Auroc:\n",
            "(array([0.        , 0.32067927, 1.        ]), array([0.        , 0.50301063, 1.        ]), array([2, 1, 0]))\n",
            "Matriz confusão:\n",
            "[[23122 10403]\n",
            " [31657 32118]]\n",
            "\n"
          ]
        },
        {
          "output_type": "display_data",
          "data": {
            "image/png": "[encoded data removed]",
            "text/plain": [
              "<Figure size 432x288 with 2 Axes>"
            ]
          },
          "metadata": {
            "needs_background": "light"
          }
        },
        {
          "output_type": "stream",
          "name": "stdout",
          "text": [
            "              precision    recall  f1-score   support\n",
            "\n",
            "           0       0.42      0.69      0.52     33525\n",
            "           1       0.76      0.50      0.60     63775\n",
            "\n",
            "    accuracy                           0.57     97300\n",
            "   macro avg       0.59      0.60      0.56     97300\n",
            "weighted avg       0.64      0.57      0.58     97300\n",
            "\n",
            "\n",
            "Erro quadrático médio:  0.4322713257965057\n",
            "\n",
            "Auroc:\n",
            "(array([0.        , 0.31030574, 1.        ]), array([0.        , 0.50361427, 1.        ]), array([2, 1, 0]))\n",
            "params: estimadores 128, maxDepht 2, Features sqrt\n",
            "Matriz confusão:\n",
            "[[43108 20666]\n",
            " [31437 32337]]\n",
            "\n"
          ]
        },
        {
          "output_type": "display_data",
          "data": {
            "image/png": "[encoded data removed]",
            "text/plain": [
              "<Figure size 432x288 with 2 Axes>"
            ]
          },
          "metadata": {
            "needs_background": "light"
          }
        },
        {
          "output_type": "stream",
          "name": "stdout",
          "text": [
            "              precision    recall  f1-score   support\n",
            "\n",
            "           0       0.58      0.68      0.62     63774\n",
            "           1       0.61      0.51      0.55     63774\n",
            "\n",
            "    accuracy                           0.59    127548\n",
            "   macro avg       0.59      0.59      0.59    127548\n",
            "weighted avg       0.59      0.59      0.59    127548\n",
            "\n",
            "\n",
            "Erro quadrático médio:  0.4084971932135353\n",
            "\n",
            "Auroc:\n",
            "(array([0.        , 0.32405055, 1.        ]), array([0.        , 0.50705617, 1.        ]), array([2, 1, 0]))\n",
            "Matriz confusão:\n",
            "[[22677 10848]\n",
            " [31270 32505]]\n",
            "\n"
          ]
        },
        {
          "output_type": "display_data",
          "data": {
            "image/png": "[encoded data removed]",
            "text/plain": [
              "<Figure size 432x288 with 2 Axes>"
            ]
          },
          "metadata": {
            "needs_background": "light"
          }
        },
        {
          "output_type": "stream",
          "name": "stdout",
          "text": [
            "              precision    recall  f1-score   support\n",
            "\n",
            "           0       0.42      0.68      0.52     33525\n",
            "           1       0.75      0.51      0.61     63775\n",
            "\n",
            "    accuracy                           0.57     97300\n",
            "   macro avg       0.59      0.59      0.56     97300\n",
            "weighted avg       0.64      0.57      0.58     97300\n",
            "\n",
            "\n",
            "Erro quadrático médio:  0.43286742034943476\n",
            "\n",
            "Auroc:\n",
            "(array([0.        , 0.32357942, 1.        ]), array([0.        , 0.50968248, 1.        ]), array([2, 1, 0]))\n",
            "params: estimadores 128, maxDepht 5, Features None\n",
            "Matriz confusão:\n",
            "[[43589 20185]\n",
            " [27794 35980]]\n",
            "\n"
          ]
        },
        {
          "output_type": "display_data",
          "data": {
            "image/png": "[encoded data removed]",
            "text/plain": [
              "<Figure size 432x288 with 2 Axes>"
            ]
          },
          "metadata": {
            "needs_background": "light"
          }
        },
        {
          "output_type": "stream",
          "name": "stdout",
          "text": [
            "              precision    recall  f1-score   support\n",
            "\n",
            "           0       0.61      0.68      0.65     63774\n",
            "           1       0.64      0.56      0.60     63774\n",
            "\n",
            "    accuracy                           0.62    127548\n",
            "   macro avg       0.63      0.62      0.62    127548\n",
            "weighted avg       0.63      0.62      0.62    127548\n",
            "\n",
            "\n",
            "Erro quadrático médio:  0.37616426756985605\n",
            "\n",
            "Auroc:\n",
            "(array([0.        , 0.31650829, 1.        ]), array([0.        , 0.56417976, 1.        ]), array([2, 1, 0]))\n",
            "Matriz confusão:\n",
            "[[23102 10423]\n",
            " [27543 36232]]\n",
            "\n"
          ]
        },
        {
          "output_type": "display_data",
          "data": {
            "image/png": "[encoded data removed]",
            "text/plain": [
              "<Figure size 432x288 with 2 Axes>"
            ]
          },
          "metadata": {
            "needs_background": "light"
          }
        },
        {
          "output_type": "stream",
          "name": "stdout",
          "text": [
            "              precision    recall  f1-score   support\n",
            "\n",
            "           0       0.46      0.69      0.55     33525\n",
            "           1       0.78      0.57      0.66     63775\n",
            "\n",
            "    accuracy                           0.61     97300\n",
            "   macro avg       0.62      0.63      0.60     97300\n",
            "weighted avg       0.67      0.61      0.62     97300\n",
            "\n",
            "\n",
            "Erro quadrático médio:  0.39019527235354573\n",
            "\n",
            "Auroc:\n",
            "(array([0.        , 0.31090231, 1.        ]), array([0.       , 0.5681223, 1.       ]), array([2, 1, 0]))\n",
            "params: estimadores 128, maxDepht 5, Features sqrt\n",
            "Matriz confusão:\n",
            "[[43972 19802]\n",
            " [28813 34961]]\n",
            "\n"
          ]
        },
        {
          "output_type": "display_data",
          "data": {
            "image/png": "[encoded data removed]",
            "text/plain": [
              "<Figure size 432x288 with 2 Axes>"
            ]
          },
          "metadata": {
            "needs_background": "light"
          }
        },
        {
          "output_type": "stream",
          "name": "stdout",
          "text": [
            "              precision    recall  f1-score   support\n",
            "\n",
            "           0       0.60      0.69      0.64     63774\n",
            "           1       0.64      0.55      0.59     63774\n",
            "\n",
            "    accuracy                           0.62    127548\n",
            "   macro avg       0.62      0.62      0.62    127548\n",
            "weighted avg       0.62      0.62      0.62    127548\n",
            "\n",
            "\n",
            "Erro quadrático médio:  0.38115062564681534\n",
            "\n",
            "Auroc:\n",
            "(array([0.        , 0.31050271, 1.        ]), array([0.        , 0.54820146, 1.        ]), array([2, 1, 0]))\n",
            "Matriz confusão:\n",
            "[[23243 10282]\n",
            " [28766 35009]]\n",
            "\n"
          ]
        },
        {
          "output_type": "display_data",
          "data": {
            "image/png": "[encoded data removed]",
            "text/plain": [
              "<Figure size 432x288 with 2 Axes>"
            ]
          },
          "metadata": {
            "needs_background": "light"
          }
        },
        {
          "output_type": "stream",
          "name": "stdout",
          "text": [
            "              precision    recall  f1-score   support\n",
            "\n",
            "           0       0.45      0.69      0.54     33525\n",
            "           1       0.77      0.55      0.64     63775\n",
            "\n",
            "    accuracy                           0.60     97300\n",
            "   macro avg       0.61      0.62      0.59     97300\n",
            "weighted avg       0.66      0.60      0.61     97300\n",
            "\n",
            "\n",
            "Erro quadrático médio:  0.40131551901336077\n",
            "\n",
            "Auroc:\n",
            "(array([0.       , 0.3066965, 1.       ]), array([0.        , 0.54894551, 1.        ]), array([2, 1, 0]))\n",
            "params: estimadores 128, maxDepht 8, Features None\n",
            "Matriz confusão:\n",
            "[[42332 21442]\n",
            " [24872 38902]]\n",
            "\n"
          ]
        },
        {
          "output_type": "display_data",
          "data": {
            "image/png": "[encoded data removed]",
            "text/plain": [
              "<Figure size 432x288 with 2 Axes>"
            ]
          },
          "metadata": {
            "needs_background": "light"
          }
        },
        {
          "output_type": "stream",
          "name": "stdout",
          "text": [
            "              precision    recall  f1-score   support\n",
            "\n",
            "           0       0.63      0.66      0.65     63774\n",
            "           1       0.64      0.61      0.63     63774\n",
            "\n",
            "    accuracy                           0.64    127548\n",
            "   macro avg       0.64      0.64      0.64    127548\n",
            "weighted avg       0.64      0.64      0.64    127548\n",
            "\n",
            "\n",
            "Erro quadrático médio:  0.36311035845328815\n",
            "\n",
            "Auroc:\n",
            "(array([0.        , 0.33621852, 1.        ]), array([0.       , 0.6099978, 1.       ]), array([2, 1, 0]))\n",
            "Matriz confusão:\n",
            "[[22511 11014]\n",
            " [24744 39031]]\n",
            "\n"
          ]
        },
        {
          "output_type": "display_data",
          "data": {
            "image/png": "[encoded data removed]",
            "text/plain": [
              "<Figure size 432x288 with 2 Axes>"
            ]
          },
          "metadata": {
            "needs_background": "light"
          }
        },
        {
          "output_type": "stream",
          "name": "stdout",
          "text": [
            "              precision    recall  f1-score   support\n",
            "\n",
            "           0       0.48      0.67      0.56     33525\n",
            "           1       0.78      0.61      0.69     63775\n",
            "\n",
            "    accuracy                           0.63     97300\n",
            "   macro avg       0.63      0.64      0.62     97300\n",
            "weighted avg       0.68      0.63      0.64     97300\n",
            "\n",
            "\n",
            "Erro quadrático médio:  0.36750256937307296\n",
            "\n",
            "Auroc:\n",
            "(array([0.        , 0.32853095, 1.        ]), array([0.        , 0.61201098, 1.        ]), array([2, 1, 0]))\n",
            "params: estimadores 128, maxDepht 8, Features sqrt\n",
            "Matriz confusão:\n",
            "[[44124 19650]\n",
            " [27092 36682]]\n",
            "\n"
          ]
        },
        {
          "output_type": "display_data",
          "data": {
            "image/png": "[encoded data removed]",
            "text/plain": [
              "<Figure size 432x288 with 2 Axes>"
            ]
          },
          "metadata": {
            "needs_background": "light"
          }
        },
        {
          "output_type": "stream",
          "name": "stdout",
          "text": [
            "              precision    recall  f1-score   support\n",
            "\n",
            "           0       0.62      0.69      0.65     63774\n",
            "           1       0.65      0.58      0.61     63774\n",
            "\n",
            "    accuracy                           0.63    127548\n",
            "   macro avg       0.64      0.63      0.63    127548\n",
            "weighted avg       0.64      0.63      0.63    127548\n",
            "\n",
            "\n",
            "Erro quadrático médio:  0.3664659579138834\n",
            "\n",
            "Auroc:\n",
            "(array([0.       , 0.3081193, 1.       ]), array([0.        , 0.57518738, 1.        ]), array([2, 1, 0]))\n",
            "Matriz confusão:\n",
            "[[23286 10239]\n",
            " [26996 36779]]\n",
            "\n"
          ]
        },
        {
          "output_type": "display_data",
          "data": {
            "image/png": "[encoded data removed]",
            "text/plain": [
              "<Figure size 432x288 with 2 Axes>"
            ]
          },
          "metadata": {
            "needs_background": "light"
          }
        },
        {
          "output_type": "stream",
          "name": "stdout",
          "text": [
            "              precision    recall  f1-score   support\n",
            "\n",
            "           0       0.46      0.69      0.56     33525\n",
            "           1       0.78      0.58      0.66     63775\n",
            "\n",
            "    accuracy                           0.62     97300\n",
            "   macro avg       0.62      0.64      0.61     97300\n",
            "weighted avg       0.67      0.62      0.63     97300\n",
            "\n",
            "\n",
            "Erro quadrático médio:  0.3826824254881809\n",
            "\n",
            "Auroc:\n",
            "(array([0.        , 0.30541387, 1.        ]), array([0.        , 0.57669933, 1.        ]), array([2, 1, 0]))\n"
          ]
        }
      ]
    },
    {
      "cell_type": "code",
      "source": [
        "rf_classifier = RandomForestClassifier(n_estimators=100,max_depth=8,min_samples_leaf=2,min_samples_split=4,max_features='sqrt')\n",
        "rf_history = rf_classifier.fit(x_train, y_train)"
      ],
      "metadata": {
        "id": "HBAYcyaZCMly"
      },
      "execution_count": 26,
      "outputs": []
    },
    {
      "cell_type": "code",
      "source": [
        "rf_pred_class_val = rf_classifier.predict(x_validate)\n",
        "y_pred_rf_val = pred_name_columns(rf_pred_class_val)\n",
        "my_metrics(y_validate,y_pred_rf_val)\n",
        "\n",
        "# rf_prb_val = rf_classifier.predict_proba(x_validate)\n",
        "# skplt.metrics.plot_ks_statistic(y_validate['IND_BOM_1_2'], rf_prb_val)\n",
        "# plt.show()\n",
        "\n",
        "rf_pred_class_test = rf_classifier.predict(x_test)\n",
        "y_pred_rf_test = pred_name_columns(rf_pred_class_test)\n",
        "my_metrics(y_test,y_pred_rf_test)"
      ],
      "metadata": {
        "colab": {
          "base_uri": "https://localhost:8080/",
          "height": 1000
        },
        "id": "L8JNJyMhCZDC",
        "outputId": "51c170c0-76c4-483b-f6d5-71c26de9aefd"
      },
      "execution_count": 30,
      "outputs": [
        {
          "output_type": "display_data",
          "data": {
            "image/png": "[encoded data removed]",
            "text/plain": [
              "<Figure size 432x288 with 2 Axes>"
            ]
          },
          "metadata": {
            "needs_background": "light"
          }
        },
        {
          "output_type": "stream",
          "name": "stdout",
          "text": [
            "\n",
            "              precision    recall  f1-score   support\n",
            "\n",
            "           0       0.62      0.70      0.66     63774\n",
            "           1       0.66      0.57      0.61     63774\n",
            "\n",
            "    accuracy                           0.64    127548\n",
            "   macro avg       0.64      0.64      0.63    127548\n",
            "weighted avg       0.64      0.64      0.63    127548\n",
            "\n",
            "Erro quadrático médio:  0.3643255872299056\n",
            "Auroc: 0.6356744127700944\n",
            "Precisão média:  0.5889437141700351\n",
            "\n"
          ]
        },
        {
          "output_type": "display_data",
          "data": {
            "image/png": "[encoded data removed]",
            "text/plain": [
              "<Figure size 432x288 with 2 Axes>"
            ]
          },
          "metadata": {
            "needs_background": "light"
          }
        },
        {
          "output_type": "stream",
          "name": "stdout",
          "text": [
            "\n",
            "              precision    recall  f1-score   support\n",
            "\n",
            "           0       0.46      0.70      0.56     33525\n",
            "           1       0.78      0.57      0.66     63775\n",
            "\n",
            "    accuracy                           0.62     97300\n",
            "   macro avg       0.62      0.63      0.61     97300\n",
            "weighted avg       0.67      0.62      0.62     97300\n",
            "\n",
            "Erro quadrático médio:  0.3846043165467626\n",
            "Auroc: 0.6348699096229607\n",
            "Precisão média:  0.7281765530155566\n",
            "\n"
          ]
        }
      ]
    },
    {
      "cell_type": "markdown",
      "metadata": {
        "id": "qdaAbfVw5PXP"
      },
      "source": [
        "##Ensemble"
      ]
    },
    {
      "cell_type": "code",
      "metadata": {
        "id": "zICcWSZ_5ZG7"
      },
      "source": [
        ""
      ],
      "execution_count": null,
      "outputs": []
    },
    {
      "cell_type": "markdown",
      "metadata": {
        "id": "6nqLBh2Z5RaB"
      },
      "source": [
        "##SVM"
      ]
    },
    {
      "cell_type": "code",
      "metadata": {
        "id": "KQTc1Mnf5Z9X"
      },
      "source": [
        "from sklearn import svm\n",
        "clf =  svm.SVC()\n",
        "clf.fit(x_train,y_train['IND_BOM_1_1'])\n",
        "clf.predict(x_test)"
      ],
      "execution_count": null,
      "outputs": []
    },
    {
      "cell_type": "markdown",
      "metadata": {
        "id": "jB2NiEQu5Sxf"
      },
      "source": [
        "##Meta Classificador"
      ]
    },
    {
      "cell_type": "code",
      "metadata": {
        "id": "_btEHL4C5a9H"
      },
      "source": [
        ""
      ],
      "execution_count": null,
      "outputs": []
    }
  ]
}