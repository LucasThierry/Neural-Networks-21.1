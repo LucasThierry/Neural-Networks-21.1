{
  "nbformat": 4,
  "nbformat_minor": 0,
  "metadata": {
    "colab": {
      "name": "Projeto.ipynb",
      "provenance": [],
      "authorship_tag": "ABX9TyPuQWI/cxSbVFn6WQWcN0Ew",
      "include_colab_link": true
    },
    "kernelspec": {
      "name": "python3",
      "display_name": "Python 3"
    },
    "language_info": {
      "name": "python"
    }
  },
  "cells": [
    {
      "cell_type": "markdown",
      "metadata": {
        "id": "view-in-github",
        "colab_type": "text"
      },
      "source": [
        "<a href=\"https://colab.research.google.com/github/LucasThierry/Neural-Networks-21.1/blob/main/Projeto.ipynb\" target=\"_parent\"><img src=\"https://colab.research.google.com/assets/colab-badge.svg\" alt=\"Open In Colab\"/></a>"
      ]
    },
    {
      "cell_type": "markdown",
      "metadata": {
        "id": "XNiaLJ8AGAt1"
      },
      "source": [
        "#Projeto - Análise de Risco de Crédito"
      ]
    },
    {
      "cell_type": "markdown",
      "metadata": {
        "id": "JBN3zi3YGofM"
      },
      "source": [
        "### **Grupo: Josenildo Vicente de Araújo (jva@cin.ufpe.br), Lucas Thierry Chaves Muniz (ltcm@cin.ufpe.br), Nicholas Henrique Justino Ferreira (nhjf@cin.ufpe.br), Renato Joaquim Miranda Ferreira (rjmf@cin.ufpe.br)**"
      ]
    },
    {
      "cell_type": "markdown",
      "metadata": {
        "id": "xYHc0St5G1A-"
      },
      "source": [
        "O seguinte Projeto tem como objetivo praticar os conceitos e teorias aprendidas na disciplina de Redes Neurais a respeito"
      ]
    },
    {
      "cell_type": "code",
      "metadata": {
        "id": "E8wBwn4XUnvd"
      },
      "source": [
        "import numpy as np\n",
        "import pandas as pd\n",
        "import gdown\n",
        "import os"
      ],
      "execution_count": 1,
      "outputs": []
    },
    {
      "cell_type": "code",
      "metadata": {
        "id": "RM0-QyKzabHZ"
      },
      "source": [
        "def pull_dataset_file(name_file):\n",
        "  file_id = '11JVg39uGJsYZZPKssnVoALl4A4RG7gI8'\n",
        "  url = 'https://drive.google.com/uc?id='+file_id\n",
        "\n",
        "  gdown.download(url, name_file, quiet=False)\n"
      ],
      "execution_count": 2,
      "outputs": []
    },
    {
      "cell_type": "code",
      "metadata": {
        "id": "R311Aysac9Lk"
      },
      "source": [
        "name_file = \"TRNcod.csv\""
      ],
      "execution_count": 3,
      "outputs": []
    },
    {
      "cell_type": "code",
      "metadata": {
        "id": "AhJm7M2lVW8d",
        "colab": {
          "base_uri": "https://localhost:8080/"
        },
        "outputId": "70585fd8-acc0-4aae-bd30-98a17564853f"
      },
      "source": [
        "if not os.path.exists('/content/'+name_file):\n",
        "  print(\"Arquivo não existe ainda\")\n",
        "  print(\"Fazendo downloading...\")\n",
        "  pull_dataset_file(name_file)\n",
        "  print(\"Download finalizado!\")"
      ],
      "execution_count": 4,
      "outputs": [
        {
          "output_type": "stream",
          "name": "stdout",
          "text": [
            "Arquivo não existe ainda\n",
            "Fazendo downloading...\n"
          ]
        },
        {
          "output_type": "stream",
          "name": "stderr",
          "text": [
            "Downloading...\n",
            "From: https://drive.google.com/uc?id=11JVg39uGJsYZZPKssnVoALl4A4RG7gI8\n",
            "To: /content/TRNcod.csv\n",
            "100%|██████████| 766M/766M [00:15<00:00, 49.3MB/s]\n"
          ]
        },
        {
          "output_type": "stream",
          "name": "stdout",
          "text": [
            "Download finalizado!\n"
          ]
        }
      ]
    },
    {
      "cell_type": "code",
      "metadata": {
        "id": "Ea6fanOoY2Mo",
        "colab": {
          "base_uri": "https://localhost:8080/"
        },
        "outputId": "360f96d2-e7d7-41bb-f635-ac25e6b726de"
      },
      "source": [
        "print(\"Lendo arquivo...\")\n",
        "dataset = pd.read_csv(name_file)"
      ],
      "execution_count": 5,
      "outputs": [
        {
          "output_type": "stream",
          "name": "stdout",
          "text": [
            "Lendo arquivo...\n"
          ]
        }
      ]
    },
    {
      "cell_type": "code",
      "metadata": {
        "id": "zeIPTBgocmXM",
        "colab": {
          "base_uri": "https://localhost:8080/"
        },
        "outputId": "dae3cd07-2e16-4b6d-bfe7-5ec5d0be689f"
      },
      "source": [
        "print(\"Separando classes...\")\n",
        "class_1 = dataset[dataset['IND_BOM_1_1']==1]\n",
        "class_2 = dataset[dataset['IND_BOM_1_2']==1]\n",
        "class_1 = class_1.sample(frac=1)\n",
        "class_2 = class_2.sample(frac=1)"
      ],
      "execution_count": 6,
      "outputs": [
        {
          "output_type": "stream",
          "name": "stdout",
          "text": [
            "Separando classes...\n"
          ]
        }
      ]
    },
    {
      "cell_type": "code",
      "metadata": {
        "colab": {
          "base_uri": "https://localhost:8080/"
        },
        "id": "hScVTZx_is-u",
        "outputId": "1147e828-cba7-4734-f69c-8cda7d5b7cd4"
      },
      "source": [
        "print(\"Dividindo dados em treinamento, validação e teste\")\n",
        "class_1_train, class_1_validate, class_1_test = np.split(class_1,[int(0.5*len(class_1)),int(0.75*len(class_1))])\n",
        "class_2_train, class_2_validate, class_2_test = np.split(class_2,[int(0.5*len(class_2)),int(0.75*len(class_2))])  "
      ],
      "execution_count": 7,
      "outputs": [
        {
          "output_type": "stream",
          "name": "stdout",
          "text": [
            "Dividindo dados em treinamento, validação e teste\n"
          ]
        }
      ]
    },
    {
      "cell_type": "code",
      "metadata": {
        "colab": {
          "base_uri": "https://localhost:8080/"
        },
        "id": "cY-n25H0ivRd",
        "outputId": "d377b43e-7e82-4912-d598-d245c9429cbc"
      },
      "source": [
        "print(\"Classe 1 - \",\"Treino:\",len(class_1_train),\"Validação:\",len(class_1_validate),\"Teste:\",len(class_1_test))\n",
        "print(\"Classe 2 - \",\"Treino:\",len(class_2_train),\"Validação:\",len(class_2_validate),\"Teste:\",len(class_2_test))"
      ],
      "execution_count": 8,
      "outputs": [
        {
          "output_type": "stream",
          "name": "stdout",
          "text": [
            "Classe 1 -  Treino: 127549 Validação: 63774 Teste: 63775\n",
            "Classe 2 -  Treino: 67049 Validação: 33524 Teste: 33525\n"
          ]
        }
      ]
    },
    {
      "cell_type": "code",
      "metadata": {
        "colab": {
          "base_uri": "https://localhost:8080/"
        },
        "id": "AmE6bdJyixb0",
        "outputId": "0e621bcc-6e29-46d8-d5ac-96d9ad7a54e9"
      },
      "source": [
        "print(\"Repetindo dados de treino e validação da classe 2\")\n",
        "while len(class_2_train) < len(class_1_train):\n",
        "  count = (len(class_1_train)-len(class_2_train)) % len(class_2_train)\n",
        "  class_2_train = pd.concat([class_2_train[:count],class_2_train])\n",
        "while len(class_2_validate) < len(class_1_validate):\n",
        "  count = (len(class_1_validate)-len(class_2_validate)) % len(class_2_validate)\n",
        "  class_2_validate = pd.concat([class_2_validate[:count],class_2_validate])\n"
      ],
      "execution_count": 9,
      "outputs": [
        {
          "output_type": "stream",
          "name": "stdout",
          "text": [
            "Repetindo dados de treino e validação da classe 2\n"
          ]
        }
      ]
    },
    {
      "cell_type": "code",
      "metadata": {
        "colab": {
          "base_uri": "https://localhost:8080/"
        },
        "id": "7iq7ePOoi2Ab",
        "outputId": "3643839e-f8ed-4d98-d1ae-ee9f9b50dfb9"
      },
      "source": [
        "print(\"Classe 1 - \",\"Treino:\",len(class_1_train),\"Validação:\",len(class_1_validate),\"Teste:\",len(class_1_test))\n",
        "print(\"Classe 2 - \",\"Treino:\",len(class_2_train),\"Validação:\",len(class_2_validate),\"Teste:\",len(class_2_test))"
      ],
      "execution_count": 10,
      "outputs": [
        {
          "output_type": "stream",
          "name": "stdout",
          "text": [
            "Classe 1 -  Treino: 127549 Validação: 63774 Teste: 63775\n",
            "Classe 2 -  Treino: 127549 Validação: 63774 Teste: 33525\n"
          ]
        }
      ]
    },
    {
      "cell_type": "code",
      "metadata": {
        "colab": {
          "base_uri": "https://localhost:8080/"
        },
        "id": "1v9YdXozi53b",
        "outputId": "fade4260-19dc-40e7-8f0d-11fad42231f9"
      },
      "source": [
        "print(\"Juntandos dados das classes de acordo com o tipo de separação\")\n",
        "data_train = pd.concat([class_1_train,class_2_train])\n",
        "data_train = data_train.sample(frac=1)\n",
        "data_validate = pd.concat([class_1_validate,class_2_validate])\n",
        "data_validate = data_validate.sample(frac=1)\n",
        "data_test = pd.concat([class_1_test,class_2_test])\n",
        "data_test = data_test.sample(frac=1)"
      ],
      "execution_count": 11,
      "outputs": [
        {
          "output_type": "stream",
          "name": "stdout",
          "text": [
            "Juntandos dados das classes de acordo com o tipo de separação\n"
          ]
        }
      ]
    },
    {
      "cell_type": "code",
      "metadata": {
        "colab": {
          "base_uri": "https://localhost:8080/"
        },
        "id": "tUYmo3cqi8Fs",
        "outputId": "fd610c0b-c91e-45e1-f9d9-23e5745fcbfe"
      },
      "source": [
        "print(\"Treinamento:\",len(data_train),\"Validação:\",len(data_validate),\"Teste:\",len(data_test))"
      ],
      "execution_count": 12,
      "outputs": [
        {
          "output_type": "stream",
          "name": "stdout",
          "text": [
            "Treinamento: 255098 Validação: 127548 Teste: 97300\n"
          ]
        }
      ]
    }
  ]
}