{
  "nbformat": 4,
  "nbformat_minor": 0,
  "metadata": {
    "colab": {
      "name": "miniprojeto2.ipynb",
      "provenance": []
    },
    "kernelspec": {
      "name": "python3",
      "display_name": "Python 3"
    },
    "language_info": {
      "name": "python"
    }
  },
  "cells": [
    {
      "cell_type": "markdown",
      "metadata": {
        "id": "nZHeZKqb3Nwe"
      },
      "source": [
        "# MiniProjeto 2 - Convolutional Neural Networks - Redes Neurais"
      ]
    },
    {
      "cell_type": "markdown",
      "metadata": {
        "id": "06Wyzwmx3VOD"
      },
      "source": [
        "## Reconhecimento de Dígitos com CNN\n",
        "\n",
        "## Grupo: Josenildo Vicente de Araújo (jva@cin.ufpe.br), Lucas Thierry Chaves Muniz (ltcm@cin.ufpe.br), Nicholas Henrique Justino Ferreira (nhjf@cin.ufpe.br), Renato Joaquim Miranda Ferreira (rjmf@cin.ufpe.br)"
      ]
    },
    {
      "cell_type": "markdown",
      "metadata": {
        "id": "6ehiGkuq3kjg"
      },
      "source": [
        "O seguinte MiniProjeto tem como objetivo praticar os conceitos e teorias aprendidas na disciplina de Redes Neurais a respeito do funcionamento do modelo de Redes Neurais Convolucionais. De maneira a variar os parâmetros do modelo treinado e observar seus resultados. A rede utilizada em questão, tem como função fazer o reconhecimento de dígitos escritos manualmente por 250 pessoas, entre as quais eram estudantes do Ensino Médio e funcionários do Departamento do Censo dos Estados Unidos. O conjunto desses dígitos está reunido no _dataset_ MNIST, que possuí 60000 imagens para treinamento do modelo da rede neural e 10000 imagens para teste do modelo da rede neural. Cada uma dessas imagens são formadas por 784 _pixels_ (28x28) em uma escala da cor cinza.\n"
      ]
    },
    {
      "cell_type": "markdown",
      "metadata": {
        "id": "_FgMkRTu3m4w"
      },
      "source": [
        "Começamos pela importação do pacote das bibliotecas do keras para construção do modelo, importação do dataset. O matplotlib será a biblioteca gráfica e será usada quando for pertinente"
      ]
    },
    {
      "cell_type": "code",
      "metadata": {
        "id": "jTj1s-55uovX"
      },
      "source": [
        "from keras.models import Sequential\n",
        "from keras.layers import Dense, Conv2D, Flatten\n",
        "import matplotlib.pyplot as plt\n",
        "from keras.datasets import mnist\n",
        "from tensorflow.keras.utils import to_categorical\n",
        "import matplotlib.pyplot as plt"
      ],
      "execution_count": 17,
      "outputs": []
    },
    {
      "cell_type": "markdown",
      "metadata": {
        "id": "UZL5oopX7zaA"
      },
      "source": [
        "Importação do dataset e separação entre os conjuntos de teste e treinamento"
      ]
    },
    {
      "cell_type": "code",
      "metadata": {
        "id": "s6DYkojTu635"
      },
      "source": [
        "(X_train, y_train), (X_test, y_test) = mnist.load_data()"
      ],
      "execution_count": 5,
      "outputs": []
    },
    {
      "cell_type": "markdown",
      "metadata": {
        "id": "Y4thY6_o76Hs"
      },
      "source": [
        "explorando o dataset"
      ]
    },
    {
      "cell_type": "code",
      "metadata": {
        "colab": {
          "base_uri": "https://localhost:8080/",
          "height": 282
        },
        "id": "eiA4JBUgvHtc",
        "outputId": "40e5bcca-7924-451a-e374-f184b8f0c41a"
      },
      "source": [
        "plt.imshow(X_train[0])"
      ],
      "execution_count": 11,
      "outputs": [
        {
          "output_type": "execute_result",
          "data": {
            "text/plain": [
              "<matplotlib.image.AxesImage at 0x7f97d1266d10>"
            ]
          },
          "metadata": {},
          "execution_count": 11
        },
        {
          "output_type": "display_data",
          "data": {
            "image/png": "[encoded data removed]",
            "text/plain": [
              "<Figure size 432x288 with 1 Axes>"
            ]
          },
          "metadata": {
            "needs_background": "light"
          }
        }
      ]
    },
    {
      "cell_type": "markdown",
      "metadata": {
        "id": "iLBwKGbL77kW"
      },
      "source": [
        "Reshape para treinamento do modelo do keras"
      ]
    },
    {
      "cell_type": "code",
      "metadata": {
        "id": "o9xiX6h1vSnj"
      },
      "source": [
        "#reshape data to fit model\n",
        "X_train = X_train.reshape(60000,28,28,1)\n",
        "X_test = X_test.reshape(10000,28,28,1)"
      ],
      "execution_count": 12,
      "outputs": []
    },
    {
      "cell_type": "code",
      "metadata": {
        "colab": {
          "base_uri": "https://localhost:8080/"
        },
        "id": "TX6hd2vfvTan",
        "outputId": "e45c8ae5-f14b-4775-e51f-ff0288114dea"
      },
      "source": [
        "#one-hot encode target column\n",
        "y_train = to_categorical(y_train)\n",
        "y_test = to_categorical(y_test)\n",
        "\n",
        "y_train[0]"
      ],
      "execution_count": 13,
      "outputs": [
        {
          "output_type": "execute_result",
          "data": {
            "text/plain": [
              "array([0., 0., 0., 0., 0., 1., 0., 0., 0., 0.], dtype=float32)"
            ]
          },
          "metadata": {},
          "execution_count": 13
        }
      ]
    },
    {
      "cell_type": "markdown",
      "metadata": {
        "id": "9zJUclD88NCA"
      },
      "source": [
        "Criação do modelo Sequencial, escolhemos o sequencial pois permite a criação do modelo layer a layer. \n",
        "\n",
        "Utilizamos 3 layers diferentes para lidar com o dataset, as 2 primeiras layers convolucionais de uma matriz com 2 dimensões, uma vez que o nosso dataset está de acordo com as 2 dimensões a serem vistas e utilizadas, bem como uma 'liga' representada pelo Flatten que serve para ligar as matrizes convolucionais com as camadas mais densas do modelo.\n",
        "\n",
        "As camadas convolucionais são representadas pelos tamanhos 64 e 32, que são os números de nodes em cada layer, esse parâmetros podem ser ajustados dependendo do modelo.\n",
        "\n",
        "As funções de ativação 'relu' e 'softmax' serão utilizadas em suas respectivas camadas.\n",
        "\n",
        "A camada 'Dense' diz respeito a geração de outputs muito utilizadas nas mais diversas redes neurais, ela receberá 10 nodes, que representam o dígitos de 0-9 do nosso dataset. \n",
        "\n",
        "O modelo faz a predição baseado em qual foi o node que teve a maior probabilidade para uma dada amostra, em outras palavras, dada uma imagem X, será feita uma lista de probabilidades para tentar adivinhar qual foi o dígito fornecido."
      ]
    },
    {
      "cell_type": "code",
      "metadata": {
        "id": "bk7tnoB2vVeB"
      },
      "source": [
        "#create model\n",
        "model = Sequential()\n",
        "\n",
        "#add model layers\n",
        "model.add(Conv2D(64, kernel_size=3, activation='relu', input_shape=(28,28,1)))\n",
        "model.add(Conv2D(32, kernel_size=3, activation='relu'))\n",
        "model.add(Flatten())\n",
        "model.add(Dense(10, activation='softmax'))"
      ],
      "execution_count": 14,
      "outputs": []
    },
    {
      "cell_type": "code",
      "metadata": {
        "id": "l4tcu2XpvXY4"
      },
      "source": [
        "#compile model using accuracy as a measure of model performance\n",
        "model.compile(optimizer='adam', loss='categorical_crossentropy', metrics=['accuracy'])"
      ],
      "execution_count": 15,
      "outputs": []
    },
    {
      "cell_type": "code",
      "metadata": {
        "colab": {
          "base_uri": "https://localhost:8080/"
        },
        "id": "HPI2H2javaBc",
        "outputId": "64f037e8-6688-432a-9f94-d37f004f3f27"
      },
      "source": [
        "#train model\n",
        "model.fit(X_train, y_train,validation_data=(X_test, y_test), epochs=3)"
      ],
      "execution_count": 16,
      "outputs": [
        {
          "output_type": "stream",
          "name": "stdout",
          "text": [
            "Epoch 1/3\n",
            "1875/1875 [==============================] - 174s 92ms/step - loss: 0.2702 - accuracy: 0.9496 - val_loss: 0.0852 - val_accuracy: 0.9741\n",
            "Epoch 2/3\n",
            "1875/1875 [==============================] - 176s 94ms/step - loss: 0.0682 - accuracy: 0.9791 - val_loss: 0.0704 - val_accuracy: 0.9801\n",
            "Epoch 3/3\n",
            "1875/1875 [==============================] - 175s 94ms/step - loss: 0.0470 - accuracy: 0.9852 - val_loss: 0.0892 - val_accuracy: 0.9727\n"
          ]
        },
        {
          "output_type": "execute_result",
          "data": {
            "text/plain": [
              "<keras.callbacks.History at 0x7f97cd8f0ed0>"
            ]
          },
          "metadata": {},
          "execution_count": 16
        }
      ]
    },
    {
      "cell_type": "markdown",
      "metadata": {
        "id": "OW06-WEM-NuF"
      },
      "source": [
        "Após o treinamento de 3 épocas com o nosso modelo em mãos, foi possível obter uma acurácia média para o nosso dataset de 97%"
      ]
    },
    {
      "cell_type": "code",
      "metadata": {
        "colab": {
          "base_uri": "https://localhost:8080/"
        },
        "id": "Ps0jd93x4J6g",
        "outputId": "d2320a39-c694-4dd0-8c13-ae6f64625553"
      },
      "source": [
        "predictions = model.predict(X_test[:5])\n",
        "predictions"
      ],
      "execution_count": 28,
      "outputs": [
        {
          "output_type": "execute_result",
          "data": {
            "text/plain": [
              "array([[6.03584510e-07, 7.90626675e-10, 2.98903910e-06, 4.20431461e-05,\n",
              "        3.66446151e-10, 9.44575640e-10, 4.02875407e-11, 9.99949932e-01,\n",
              "        3.72549653e-06, 6.56003863e-07],\n",
              "       [1.58087369e-05, 1.55686752e-09, 9.99980927e-01, 4.11141832e-09,\n",
              "        5.42346983e-13, 1.02984635e-11, 3.11281792e-06, 7.00322482e-12,\n",
              "        6.34029647e-08, 1.61906797e-13],\n",
              "       [6.02659657e-06, 9.99560416e-01, 1.15842322e-05, 2.67341397e-06,\n",
              "        2.95468326e-05, 2.36362266e-05, 3.35423579e-06, 4.58563482e-05,\n",
              "        3.16559424e-04, 4.13270101e-07],\n",
              "       [9.99999642e-01, 3.98714308e-12, 2.10682369e-08, 7.21529564e-12,\n",
              "        2.21037685e-11, 9.41806206e-08, 1.25352514e-07, 1.73644876e-10,\n",
              "        1.25931379e-07, 1.26422135e-08],\n",
              "       [3.52681468e-07, 2.03445774e-10, 7.05754455e-10, 4.34059212e-11,\n",
              "        9.99911070e-01, 1.87147978e-10, 1.07158982e-09, 3.23194971e-10,\n",
              "        4.35994434e-06, 8.42271256e-05]], dtype=float32)"
            ]
          },
          "metadata": {},
          "execution_count": 28
        }
      ]
    },
    {
      "cell_type": "code",
      "metadata": {
        "colab": {
          "base_uri": "https://localhost:8080/"
        },
        "id": "1YycIy1E5QNJ",
        "outputId": "13a77688-0721-441b-b7ca-68bfccef4e47"
      },
      "source": [
        "y_test[:5]"
      ],
      "execution_count": 27,
      "outputs": [
        {
          "output_type": "execute_result",
          "data": {
            "text/plain": [
              "array([[0., 0., 0., 0., 0., 0., 0., 1., 0., 0.],\n",
              "       [0., 0., 1., 0., 0., 0., 0., 0., 0., 0.],\n",
              "       [0., 1., 0., 0., 0., 0., 0., 0., 0., 0.],\n",
              "       [1., 0., 0., 0., 0., 0., 0., 0., 0., 0.],\n",
              "       [0., 0., 0., 0., 1., 0., 0., 0., 0., 0.]], dtype=float32)"
            ]
          },
          "metadata": {},
          "execution_count": 27
        }
      ]
    }
  ]
}